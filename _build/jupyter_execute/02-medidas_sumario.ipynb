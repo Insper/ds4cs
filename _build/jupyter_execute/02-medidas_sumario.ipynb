{
 "cells": [
  {
   "cell_type": "markdown",
   "metadata": {},
   "source": [
    "# Aula 2: medidas-sumário\n",
    "**Objetivo da aula**: ao fim desta aula, o aluno será capaz de usar medidas-sumário (média, desvio padrão, mediana, percentis) e as figuras correspondentes (histogramas, box plot) para evidenciar características de um conjunto de dados\n",
    "\n",
    "* Fonte dos dados: https://data.worldbank.org/indicator/NY.GDP.PCAP.CD\n",
    "\n",
    "\n",
    "* Slides: [download](aula_estatisica.pdf)"
   ]
  },
  {
   "cell_type": "markdown",
   "metadata": {},
   "source": [
    "# Texto introdutório\n",
    "\n",
    "É comum lermos ou ouvirmos comparações como \"alguns anos atrás, o mundo era mais tranquilo\", ou \"as coisas estão piorando\". Essas impressões são importantes, mas nem sempre correspondem a dados reais. Na verdade, entender o comportamento de fatores sócio-econômicos como o acesso à renda, à educação e à saúde é muito importante para planejamentos nacionais e internacionais relacionados à aplicação e à avaliação de políticas públicas.\n",
    "\n",
    "Usando a base de dados do Banco Mundial, temos acesso a vários indicadores sócio-econômicos de todos os países. Como temos acesso aos dados de *todos* os países possíveis, dizemos que esses dados se referem à **população** de todos os países (importante: não se tratam dos habitantes dos países, mas sim a população de todos os elementos que fazem parte do conjunto \"países\"). Com esses dados, podemos visualizar e entender melhor como o mundo de hoje se compara com o mundo de anos atrás."
   ]
  },
  {
   "cell_type": "markdown",
   "metadata": {},
   "source": [
    "# Exercício 1\n",
    "*Objetivo: entender dados do Banco Mundial*\n",
    "\n",
    "Abra no Excel o [arquivo csv com dados de PIB per capita por país do Banco Mundial](dados/WorldBank/API_NY.GDP.PCAP.CD_DS2_en_csv_v2_3731360.csv).\n",
    "\n",
    "1. Quantas linhas de cabeçalho existem no arquivo?\n",
    "1. Por que algumas linhas estão incompletas?"
   ]
  },
  {
   "cell_type": "markdown",
   "metadata": {},
   "source": [
    "# Exercício 2\n",
    "*Objetivo: abrir dados do Banco Mundial em um `dataframe` e isolar as colunas de interesse*\n",
    "\n",
    "O trecho de código abaixo tenta abrir o arquivo com dados do Banco Mundial, mas retorna um erro.\n",
    "1. Que erro é esse e por que ele está acontecendo?\n",
    "1. Corrija o erro e confirme que os dados foram carregados.\n",
    "1. Use o método [.loc (veja o tutorial em vídeo!)](https://youtu.be/GhvIuGXTd4g) para encontrar o PIB per capita do Brasil em 2010."
   ]
  },
  {
   "cell_type": "code",
   "execution_count": 1,
   "metadata": {},
   "outputs": [
    {
     "data": {
      "text/html": [
       "<div>\n",
       "<style scoped>\n",
       "    .dataframe tbody tr th:only-of-type {\n",
       "        vertical-align: middle;\n",
       "    }\n",
       "\n",
       "    .dataframe tbody tr th {\n",
       "        vertical-align: top;\n",
       "    }\n",
       "\n",
       "    .dataframe thead th {\n",
       "        text-align: right;\n",
       "    }\n",
       "</style>\n",
       "<table border=\"1\" class=\"dataframe\">\n",
       "  <thead>\n",
       "    <tr style=\"text-align: right;\">\n",
       "      <th></th>\n",
       "      <th>Country Name</th>\n",
       "      <th>Country Code</th>\n",
       "      <th>Indicator Name</th>\n",
       "      <th>Indicator Code</th>\n",
       "      <th>1960</th>\n",
       "      <th>1961</th>\n",
       "      <th>1962</th>\n",
       "      <th>1963</th>\n",
       "      <th>1964</th>\n",
       "      <th>1965</th>\n",
       "      <th>...</th>\n",
       "      <th>2012</th>\n",
       "      <th>2013</th>\n",
       "      <th>2014</th>\n",
       "      <th>2015</th>\n",
       "      <th>2016</th>\n",
       "      <th>2017</th>\n",
       "      <th>2018</th>\n",
       "      <th>2019</th>\n",
       "      <th>2020</th>\n",
       "      <th>Unnamed: 65</th>\n",
       "    </tr>\n",
       "  </thead>\n",
       "  <tbody>\n",
       "    <tr>\n",
       "      <th>0</th>\n",
       "      <td>Aruba</td>\n",
       "      <td>ABW</td>\n",
       "      <td>GDP per capita (current US$)</td>\n",
       "      <td>NY.GDP.PCAP.CD</td>\n",
       "      <td>NaN</td>\n",
       "      <td>NaN</td>\n",
       "      <td>NaN</td>\n",
       "      <td>NaN</td>\n",
       "      <td>NaN</td>\n",
       "      <td>NaN</td>\n",
       "      <td>...</td>\n",
       "      <td>24712.493263</td>\n",
       "      <td>26441.619936</td>\n",
       "      <td>26893.011506</td>\n",
       "      <td>28396.908423</td>\n",
       "      <td>28452.170615</td>\n",
       "      <td>29350.805019</td>\n",
       "      <td>30253.279358</td>\n",
       "      <td>NaN</td>\n",
       "      <td>NaN</td>\n",
       "      <td>NaN</td>\n",
       "    </tr>\n",
       "    <tr>\n",
       "      <th>1</th>\n",
       "      <td>Africa Eastern and Southern</td>\n",
       "      <td>AFE</td>\n",
       "      <td>GDP per capita (current US$)</td>\n",
       "      <td>NY.GDP.PCAP.CD</td>\n",
       "      <td>147.612227</td>\n",
       "      <td>147.014904</td>\n",
       "      <td>156.189192</td>\n",
       "      <td>182.243917</td>\n",
       "      <td>162.347592</td>\n",
       "      <td>180.214908</td>\n",
       "      <td>...</td>\n",
       "      <td>1736.166560</td>\n",
       "      <td>1713.899299</td>\n",
       "      <td>1703.596298</td>\n",
       "      <td>1549.037940</td>\n",
       "      <td>1431.778723</td>\n",
       "      <td>1573.063386</td>\n",
       "      <td>1574.978648</td>\n",
       "      <td>1530.059177</td>\n",
       "      <td>1359.618224</td>\n",
       "      <td>NaN</td>\n",
       "    </tr>\n",
       "    <tr>\n",
       "      <th>2</th>\n",
       "      <td>Afghanistan</td>\n",
       "      <td>AFG</td>\n",
       "      <td>GDP per capita (current US$)</td>\n",
       "      <td>NY.GDP.PCAP.CD</td>\n",
       "      <td>59.773234</td>\n",
       "      <td>59.860900</td>\n",
       "      <td>58.458009</td>\n",
       "      <td>78.706429</td>\n",
       "      <td>82.095307</td>\n",
       "      <td>101.108325</td>\n",
       "      <td>...</td>\n",
       "      <td>638.845852</td>\n",
       "      <td>624.315455</td>\n",
       "      <td>614.223342</td>\n",
       "      <td>556.007221</td>\n",
       "      <td>512.012778</td>\n",
       "      <td>516.679862</td>\n",
       "      <td>485.668419</td>\n",
       "      <td>494.179350</td>\n",
       "      <td>516.747871</td>\n",
       "      <td>NaN</td>\n",
       "    </tr>\n",
       "    <tr>\n",
       "      <th>3</th>\n",
       "      <td>Africa Western and Central</td>\n",
       "      <td>AFW</td>\n",
       "      <td>GDP per capita (current US$)</td>\n",
       "      <td>NY.GDP.PCAP.CD</td>\n",
       "      <td>107.932233</td>\n",
       "      <td>113.081647</td>\n",
       "      <td>118.831107</td>\n",
       "      <td>123.442888</td>\n",
       "      <td>131.854402</td>\n",
       "      <td>138.526332</td>\n",
       "      <td>...</td>\n",
       "      <td>1965.118485</td>\n",
       "      <td>2157.481149</td>\n",
       "      <td>2212.853135</td>\n",
       "      <td>1894.310195</td>\n",
       "      <td>1673.835527</td>\n",
       "      <td>1613.473553</td>\n",
       "      <td>1704.139603</td>\n",
       "      <td>1777.918672</td>\n",
       "      <td>1710.073363</td>\n",
       "      <td>NaN</td>\n",
       "    </tr>\n",
       "    <tr>\n",
       "      <th>4</th>\n",
       "      <td>Angola</td>\n",
       "      <td>AGO</td>\n",
       "      <td>GDP per capita (current US$)</td>\n",
       "      <td>NY.GDP.PCAP.CD</td>\n",
       "      <td>NaN</td>\n",
       "      <td>NaN</td>\n",
       "      <td>NaN</td>\n",
       "      <td>NaN</td>\n",
       "      <td>NaN</td>\n",
       "      <td>NaN</td>\n",
       "      <td>...</td>\n",
       "      <td>5100.097027</td>\n",
       "      <td>5254.881126</td>\n",
       "      <td>5408.411700</td>\n",
       "      <td>4166.979833</td>\n",
       "      <td>3506.073128</td>\n",
       "      <td>4095.810057</td>\n",
       "      <td>3289.643995</td>\n",
       "      <td>2809.626088</td>\n",
       "      <td>1776.166868</td>\n",
       "      <td>NaN</td>\n",
       "    </tr>\n",
       "  </tbody>\n",
       "</table>\n",
       "<p>5 rows × 66 columns</p>\n",
       "</div>"
      ],
      "text/plain": [
       "                  Country Name Country Code                Indicator Name  \\\n",
       "0                        Aruba          ABW  GDP per capita (current US$)   \n",
       "1  Africa Eastern and Southern          AFE  GDP per capita (current US$)   \n",
       "2                  Afghanistan          AFG  GDP per capita (current US$)   \n",
       "3   Africa Western and Central          AFW  GDP per capita (current US$)   \n",
       "4                       Angola          AGO  GDP per capita (current US$)   \n",
       "\n",
       "   Indicator Code        1960        1961        1962        1963        1964  \\\n",
       "0  NY.GDP.PCAP.CD         NaN         NaN         NaN         NaN         NaN   \n",
       "1  NY.GDP.PCAP.CD  147.612227  147.014904  156.189192  182.243917  162.347592   \n",
       "2  NY.GDP.PCAP.CD   59.773234   59.860900   58.458009   78.706429   82.095307   \n",
       "3  NY.GDP.PCAP.CD  107.932233  113.081647  118.831107  123.442888  131.854402   \n",
       "4  NY.GDP.PCAP.CD         NaN         NaN         NaN         NaN         NaN   \n",
       "\n",
       "         1965  ...          2012          2013          2014          2015  \\\n",
       "0         NaN  ...  24712.493263  26441.619936  26893.011506  28396.908423   \n",
       "1  180.214908  ...   1736.166560   1713.899299   1703.596298   1549.037940   \n",
       "2  101.108325  ...    638.845852    624.315455    614.223342    556.007221   \n",
       "3  138.526332  ...   1965.118485   2157.481149   2212.853135   1894.310195   \n",
       "4         NaN  ...   5100.097027   5254.881126   5408.411700   4166.979833   \n",
       "\n",
       "           2016          2017          2018         2019         2020  \\\n",
       "0  28452.170615  29350.805019  30253.279358          NaN          NaN   \n",
       "1   1431.778723   1573.063386   1574.978648  1530.059177  1359.618224   \n",
       "2    512.012778    516.679862    485.668419   494.179350   516.747871   \n",
       "3   1673.835527   1613.473553   1704.139603  1777.918672  1710.073363   \n",
       "4   3506.073128   4095.810057   3289.643995  2809.626088  1776.166868   \n",
       "\n",
       "   Unnamed: 65  \n",
       "0          NaN  \n",
       "1          NaN  \n",
       "2          NaN  \n",
       "3          NaN  \n",
       "4          NaN  \n",
       "\n",
       "[5 rows x 66 columns]"
      ]
     },
     "execution_count": 1,
     "metadata": {},
     "output_type": "execute_result"
    }
   ],
   "source": [
    "import pandas as pd\n",
    "\n",
    "df = pd.read_csv('dados/WorldBank/API_NY.GDP.PCAP.CD_DS2_en_csv_v2_3731360.csv', skiprows=4)\n",
    "df.head()"
   ]
  },
  {
   "cell_type": "markdown",
   "metadata": {},
   "source": [
    "# Exercício 3\n",
    "*Objetivo: usar o `seaborn` para plotar um histograma para visualizar distribuições*\n",
    "\n",
    "Um histograma é um tipo especial de gráfico de barras. A altura de cada barra corresponde ao número de elementos no conjunto cujo valor está em um determinado intervalo.\n",
    "\n",
    "1. Qual é o típico PIB per capita de países em 1990?\n",
    "1. O que acontece se modificarmos o valor do parâmetro \"bins\"?\n",
    "1. Modifique o código para mostrar o histograma do PIB per capita em 2020.\n"
   ]
  },
  {
   "cell_type": "code",
   "execution_count": 2,
   "metadata": {},
   "outputs": [
    {
     "data": {
      "image/png": "[encoded data removed]",
      "text/plain": [
       "<Figure size 640x480 with 1 Axes>"
      ]
     },
     "metadata": {},
     "output_type": "display_data"
    }
   ],
   "source": [
    "import matplotlib.pyplot as plt\n",
    "plt.style.use('default')\n",
    "import seaborn as sns\n",
    "\n",
    "gdp = df['2020']\n",
    "\n",
    "plt.figure()\n",
    "sns.histplot(data=gdp, bins=20)\n",
    "plt.xlabel('PIB per capita (US$)')\n",
    "plt.show()"
   ]
  },
  {
   "cell_type": "markdown",
   "metadata": {},
   "source": [
    "# Exercício 4\n",
    "*Objetivo: desenhar histogramas com diversos conjuntos de dados para evidenciar diferenças entre eles*\n",
    "\n",
    "Uma vantagem de usar figuras é que elas permitem visualizar diferenças entre dados. Para evidenciar diferenças, é importante colocar lado a lado os elementos que queremos diferenciar.\n",
    "\n",
    "1. No histograma gerado pelo código abaixo, o que podemos dizer sobre o que aconteceu com o PIB per capita no mundo entre 1960 e 1970?\n",
    "1. Que tipo de construção é usada para selecionar várias colunas de um `dataframe`?\n",
    "1. Modifique o trecho de código e verifique o que aconteceu com o PIB per capita no mundo década a década.\n",
    "1. Até quantas cores você consegue colocar no gráfico e ainda visualizar os resultados tranquilamente?\n"
   ]
  },
  {
   "cell_type": "code",
   "execution_count": 3,
   "metadata": {},
   "outputs": [
    {
     "data": {
      "image/png": "[encoded data removed]",
      "text/plain": [
       "<Figure size 640x480 with 1 Axes>"
      ]
     },
     "metadata": {},
     "output_type": "display_data"
    }
   ],
   "source": [
    "import matplotlib.pyplot as plt\n",
    "plt.style.use('default')\n",
    "import seaborn as sns\n",
    "\n",
    "gdp = df[['1960','2020']]\n",
    "\n",
    "plt.figure()\n",
    "sns.histplot(data=gdp, bins=15, multiple=\"dodge\", shrink=0.8)\n",
    "plt.xlabel('PIB per capita (US$)')\n",
    "plt.show()"
   ]
  },
  {
   "cell_type": "code",
   "execution_count": null,
   "metadata": {},
   "outputs": [],
   "source": []
  },
  {
   "cell_type": "markdown",
   "metadata": {},
   "source": [
    "# Exercício 5\n",
    "*Objetivo: calcular a média de um conjunto de dados para evidenciar como o conjunto se comporta*\n",
    "\n",
    "A média é o valor que obtemos quando somamos todos os valores de um conjunto de dados e dividimos pelo número de elementos desse conjunto. Por exemplo, a média de ${1, 2, 3, 4}$ é $ (1+2+3+4) / 4 = 10/4 = 2.5$.\n",
    "\n",
    "O trecho de código abaixo mostra como calcular a média de uma coluna de um `dataframe`.\n",
    "\n",
    "Faça uma figura mostrando como a média do PIB per capita de todos os países do mundo se comportou desde 1960 até 2020."
   ]
  },
  {
   "cell_type": "code",
   "execution_count": 4,
   "metadata": {},
   "outputs": [
    {
     "name": "stdout",
     "output_type": "stream",
     "text": [
      "482.72531432586766\n"
     ]
    }
   ],
   "source": [
    "gdp_medio = df['1960'].mean()\n",
    "print(gdp_medio)"
   ]
  },
  {
   "cell_type": "code",
   "execution_count": 5,
   "metadata": {},
   "outputs": [],
   "source": [
    "# Faça sua figura aqui"
   ]
  },
  {
   "cell_type": "markdown",
   "metadata": {},
   "source": [
    "# Exercício 6\n",
    "*Objetivo: calcular a mediana de um conjunto de dados para evidenciar como o conjunto se comporta*\n",
    "\n",
    "A mediana é um outro valor que indica a centralidade de um conjunto de dados. Ela é calculada da seguinte forma: os valores do conjunto são ordenados do menor para o maior, e a mediana é o valor correspondente ao elemento central dessa lista.\n",
    "\n",
    "1. Qual é a mediana do conjunto: ${4, 2, 5, 3, 1}$?\n",
    "1. No conjunto acima, se trocarmos o elemento $5$ por $50$, quem seria mais afetado: a média ou a mediana?\n",
    "1. Qual medida (média ou mediana) se refere à expressão \"países, em média\"? E qual se liga a \"o país médio\"?\n",
    "1. O trecho de código abaixo mostra como calcular a mediana de uma coluna de um `dataframe`. Crie um plot que mostra a mediana do PIB per capita de países ao longo dos anos entre 1960 e 2020."
   ]
  },
  {
   "cell_type": "code",
   "execution_count": 6,
   "metadata": {},
   "outputs": [
    {
     "name": "stdout",
     "output_type": "stream",
     "text": [
      "197.897848206733\n"
     ]
    }
   ],
   "source": [
    "gdp_mediano = df['1960'].median()\n",
    "print(gdp_mediano)"
   ]
  },
  {
   "cell_type": "code",
   "execution_count": 7,
   "metadata": {},
   "outputs": [],
   "source": [
    "# Faça sua figura aqui"
   ]
  },
  {
   "cell_type": "code",
   "execution_count": null,
   "metadata": {},
   "outputs": [],
   "source": []
  },
  {
   "cell_type": "markdown",
   "metadata": {},
   "source": [
    "# Exercício 7\n",
    "*Objetivo: calcular o desvio padrão de um conjunto de dados para entender sua dispersão*\n",
    "\n",
    "O desvio padrão é uma medida de dispersão, isto é, valores maiores do desvio padrão significam que as medidas estão mais \"espalhadas\". Ele é calculado como a média do quadrado da diferença em relação à média, ou:\n",
    "\n",
    "$$\n",
    "\\mu = \\frac{\\sum_{n=1}^{N} x_n}{N}\\\\\n",
    "\\\\\n",
    "\\\\\n",
    "\\sigma = \\sqrt{\\frac{\\sum_{n=1}^{N} (x_n-\\mu)^2}{N}}\n",
    "$$\n",
    "\n",
    "O desvio padrão significa a diferença esperada entre um elemento qualquer e a média da população. Isso significa que, por exemplo, que se a média de notas de uma população de alunos for 8 e o desvio padrão for 2, então uma pessoa que tirou 7 está a meio desvio padrão da média, o que está dentro do desvio tipicamente esperado. Porém, se o desvio padrão for 0.5, então essa pessoa que tirou 7 está dois desvios padrões longe da média, o que significa uma diferença bem mais atípica.\n",
    "\n",
    "O código abaixo permite calcular o desvio padrão de uma coluna de um `dataframe`.\n",
    "1. Faça uma figura mostrando como o desvio padrão do PIB per capita se comporta ao longo do tempo.\n",
    "1. Faça uma figura mostrando como a razão entre o desvio padrão e a média do PIB per capita se comporta ao longo do tempo."
   ]
  },
  {
   "cell_type": "code",
   "execution_count": 8,
   "metadata": {},
   "outputs": [
    {
     "name": "stdout",
     "output_type": "stream",
     "text": [
      "626.040167865528\n"
     ]
    }
   ],
   "source": [
    "gdp_std = df['1960'].std()\n",
    "print(gdp_std)"
   ]
  },
  {
   "cell_type": "markdown",
   "metadata": {},
   "source": [
    "# Exercício 8\n",
    "*Objetivo: calcular percentis para evidenciar a dispersão em medidas*\n",
    "\n",
    "Uma outra medida de dispersão é o percentil. O *x-percentil*, ou *percentil x*, é o valor abaixo do qual está $x\\%$ de seu conjunto. O raciocínio é semelhante ao da mediana. Na verdade, o *percentil 50* é exatamente a mediana.\n",
    "\n",
    "Um *quantil* é exatamente o mesmo, exceto que ao invés de medir quantidades em porcentagens elas são medidas em frações, isto é, a mediana é o quantil $0.5$.\n",
    "\n",
    "O código abaixo permite calcular um quantil de uma coluna. \n",
    "\n",
    "Existe uma frase muito comumente falada, que é:\n",
    "\n",
    "*Apesar do progresso mundial, os países pobres se tornaram ainda mais pobres nos anos mais recentes*\n",
    "\n",
    "Em contraposição a ela, outras pessoas respondem:\n",
    "\n",
    "*Os países pobres estão muito menos pobres do que já estiveram! O mundo está evoluindo para todos!*\n",
    "\n",
    "1. Faça uma figura que permita comparar a evolução do PIB per capita nos 3% países mais pobres com a evolução nos 3% mais ricos. Dica: como estamos falando de variações de grandezas, pode ser útil usar o eixo y em escala logaritmica com `plt.semilogy()`.\n",
    "\n",
    "1. Pela sua figura, como você analisaria as duas frases colocadas acima?"
   ]
  },
  {
   "cell_type": "code",
   "execution_count": 9,
   "metadata": {},
   "outputs": [
    {
     "name": "stdout",
     "output_type": "stream",
     "text": [
      "429.4240015605796\n"
     ]
    }
   ],
   "source": [
    "gdp_qnt = df['1960'].quantile(q=0.7)\n",
    "print(gdp_qnt)"
   ]
  },
  {
   "cell_type": "code",
   "execution_count": 10,
   "metadata": {},
   "outputs": [
    {
     "data": {
      "image/png": "[encoded data removed]",
      "text/plain": [
       "<Figure size 640x480 with 1 Axes>"
      ]
     },
     "metadata": {},
     "output_type": "display_data"
    }
   ],
   "source": [
    "ano = range(1960,2000)\n",
    "gdp_pob = []\n",
    "gdp_ric = []\n",
    "\n",
    "for a in ano:\n",
    "    gdp_pob.append(df[str(a)].quantile(q=0.03))\n",
    "    gdp_ric.append(df[str(a)].quantile(q=0.97))\n",
    "\n",
    "plt.figure()\n",
    "plt.plot(ano, gdp_pob, label='Quantil 0.3')\n",
    "plt.plot(ano, gdp_ric, label='Quantil 0.97')\n",
    "plt.legend()\n",
    "plt.semilogy()\n",
    "plt.show()"
   ]
  },
  {
   "cell_type": "markdown",
   "metadata": {},
   "source": [
    "# Exercício 9\n",
    "*Objetivo: plotar e interpretar boxplots*\n",
    "\n",
    "Um boxplot é um tipo de figura muito comum em estatística que mostra a dispersão de um conjunto de dados. Tipicamente, ele marca a mediana e os quantis $0.25$ e $0.75$.\n",
    "\n",
    "A diferença entre os quantis $0.75$ e $0.25$ é chamada de Inter-Quartile Range (IQR). Elementos cuja distância a um quartil é maior que $1.5 \\times \\text{IQR}$ são considerados outliers.\n",
    "\n",
    "O código abaixo mostra como fazer um boxplot dos dados de PIB per capita. Modifique o código para mostrar o que está acontecendo com o PIB per capita dos países a cada década desde 1960."
   ]
  },
  {
   "cell_type": "code",
   "execution_count": 11,
   "metadata": {},
   "outputs": [
    {
     "data": {
      "image/png": "[encoded data removed]",
      "text/plain": [
       "<Figure size 640x480 with 1 Axes>"
      ]
     },
     "metadata": {},
     "output_type": "display_data"
    }
   ],
   "source": [
    "plt.figure()\n",
    "sns.boxplot(data=df[['1960', '2020']])\n",
    "plt.semilogy()\n",
    "plt.show()"
   ]
  },
  {
   "cell_type": "markdown",
   "metadata": {},
   "source": [
    "# Exercício 10\n",
    "*Objetivo: encontrar países em ascenção*\n",
    "\n",
    "É possível calcular valores à partir de colunas de um dataframe - veja este [tutorial em vídeo](https://youtu.be/chAinSeQn50).\n",
    "\n",
    "Um indicador de sucesso de um país é o crescimento relativo de seu pib. Para calcular o crescimento relativo do PIB entre 2000 e 2010, por exemplo, podemos usar a fórmula:\n",
    "\n",
    "$$\n",
    "\\Delta \\text{PIB} = \\frac{\\text{PIB}_{2010}-\\text{PIB}_{2000}}{\\text{PIB}_{2000}}\n",
    "$$\n",
    "\n",
    "Usando essas informações, responda: dos países ativos do Mercosul (Argentina, Brasil, Paraguai e Uruguai), qual teve o maior crescimento relativo entre os anos de 1991 (data de criação do Mercosul) até 2020?"
   ]
  },
  {
   "cell_type": "markdown",
   "metadata": {},
   "source": [
    "# Exercício 11\n",
    "*Objetivo: aplicar as medidas-sumário para analisar dados de indicadores do World Bank e evidenciar alguma informação importante em relação ao mundo*\n",
    "\n",
    "O Banco Mundial disponibiliza um conjunto grande de indicadores relacionados a países. Muitos deles permitem posicionar-se, com base em dados, frente a temas como desnutrição, equidade de gênero, educação, poluição, etc. Em especial, com as técnicas que aprendemos nesta aula, podemos entender como os dados se comportam ao longo do tempo para os diversos países do mundo.\n",
    "\n",
    "1. Navegue pela [base de dados do Banco Mundial](https://data.worldbank.org/indicator). Escolha um indicador para responder à pergunta: \"o número de pessoas com acesso a instalações de saneamento básico tem diminuído\".\n",
    "2. Baixe os dados e certifique-se de que eles estão completos o suficiente para responder à sua pergunta.\n",
    "3. Usando as técnicas que aprendemos hoje, faça uma figura que evidencie a resposta à sua pergunta.\n",
    "4. Não esqueça de rotular eixos e colocar título na figura! No título, tanto a pergunta quanto a resposta devem ficar evidentes."
   ]
  },
  {
   "cell_type": "markdown",
   "metadata": {},
   "source": []
  }
 ],
 "metadata": {
  "kernelspec": {
   "display_name": "Python 3.7.12",
   "language": "python",
   "name": "python3"
  },
  "language_info": {
   "codemirror_mode": {
    "name": "ipython",
    "version": 3
   },
   "file_extension": ".py",
   "mimetype": "text/x-python",
   "name": "python",
   "nbconvert_exporter": "python",
   "pygments_lexer": "ipython3",
   "version": "3.8.13"
  },
  "vscode": {
   "interpreter": {
    "hash": "48a163085726af4aa892ebfc5efd6be8ee4b935d9ea37781e4f79f4457b77d39"
   }
  }
 },
 "nbformat": 4,
 "nbformat_minor": 2
}