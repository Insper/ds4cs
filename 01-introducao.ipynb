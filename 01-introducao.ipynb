{
 "cells": [
  {
   "cell_type": "markdown",
   "metadata": {},
   "source": [
    "# Aula 01"
   ]
  },
  {
   "cell_type": "markdown",
   "metadata": {},
   "source": [
    "#  Ciência de Dados para Computação: O que são \"dados\"? O que queremos fazer com eles?"
   ]
  },
  {
   "cell_type": "markdown",
   "metadata": {},
   "source": [
    "**Objetivo da aula:** ao fim desta aula, o aluno será capaz de entender como dados se relacionam a uma série histórica.\n",
    "\n",
    "* Fonte dos dados: https://portal.inmet.gov.br/dadoshistoricos"
   ]
  },
  {
   "cell_type": "markdown",
   "metadata": {},
   "source": [
    "# Mudanças climáticas\n",
    "\n",
    "Um fenômeno bastante discutido hoje em dia é a mudança climática. Trata-se da alteração na temperatura do planeta Terra, nos ciclos de chuvas, etc., que pode causar uma série de problemas, tanto de ordem econômica (pela alteração nas colheitas, por exemplo) quanto de ordem ambiental (permeando tanto a possível extinção de espécies quanto o surgimento de novas doenças e o aparecimento mais frequente condições climáticas extremas como tempestades e grandes secas).\n",
    "\n",
    "Nesta aula, usaremos dados públicos para visualizar os efeitos da mudança climática."
   ]
  },
  {
   "cell_type": "markdown",
   "metadata": {},
   "source": [
    "# Hipóteses e bases de dados\n",
    "\n",
    "Em toda análise de dados, partimos de hipóteses. Uma hipótese é uma afirmação como em: \"se o fenômeno X acontece, então devo ser capaz de observar a medida Y\".\n",
    "\n",
    "# Exercício 1\n",
    "*Objetivo: relacionar fenômenos a possíveis observações*\n",
    "\n",
    "Junto a sua dupla, avalie as hipóteses abaixo com \"plausíveis\" ou \"não-plausíveis\". Ordene as hipóteses plausíveis da \"mais provável\" para a \"menos provável\".\n",
    "\n",
    "1. Se a mudança climática ocorre, então devo ser capaz de observar um aumento nas temperaturas máximas anuais ao longo dos anos\n",
    "1. Se a mudança climática ocorre, então devo ser capaz de observar um aumento nas temperaturas médias anuais ao longo dos anos\n",
    "1. Se a mudança climática ocorre, então devo ser capaz de observar um aumento na umidade do ar média ao longo dos anos\n",
    "1. Se a mudança climática ocorre, então devo ser capaz de observar uma diminuição nas temperaturas mínimas anuais ao longo dos anos\n",
    "1. Se a mudança climática ocorre, então devo ser capaz de observar um aumento na precipitação ao longo dos anos\n"
   ]
  },
  {
   "cell_type": "markdown",
   "metadata": {},
   "source": [
    "## Sobre o INMET\n",
    "\n",
    "Independente de quais hipóteses você e sua dupla avaliaram com mais plausíveis, só podemos confirmá-las ou desconfirmá-las se, de fato, tivermos dados para observar. Para dados ambientais, é evidente que é pouco factível que coletemos, nós mesmos, algumas décadas de dados (especialmente porque temos somente até o fim do semestre para concluir esta disciplina!). Então, para este caso, é uma boa ideia encontrar outras fontes de dados que estejam disponíveis online.\n",
    "\n",
    "Para dados ambientais brasileiros, uma possível fonte é o [Instituto Nacional de Metereologia (INMET)](https://portal.inmet.gov.br/). O INMET disponibiliza dados coletados por estações metereológicas automáticas espalhadas pelo Brasil. O processo de coleta e registro foi iniciada em 2001, com 5 estações, e a cada ano foram sendo adicionadas novas estações, chegando a 588 em 2021.\n",
    "\n",
    "Antes de trabalhar com os dados, precisamos entender como eles estão sendo armazenados.\n",
    "\n",
    "# Exercício 2\n",
    "*Objetivo: abrir um documento CSV e verificar suas propriedades*\n",
    "\n",
    "Abra o [arquivo csv com dados da estação de Brasília de 2001](dados/INMET/2001/INMET_CO_DF_A001_BRASILIA_01-01-2001_A_31-12-2001.CSV) usando o Excel (ou o Openoffice Spreadsheets). Encontre as seguintes informações:\n",
    "\n",
    "1. Quais dados permitem identificar a estação metereológica em questão?\n",
    "1. Quantas linhas de dados correspondem ao cabeçalho que identifica a estação e a coleta?\n",
    "1. Com que frequência os dados ambientais são coletados?\n",
    "1. Quais das hipóteses do exercício 1 poderiam ser avaliadas usando os dados coletados nesta estação?\n",
    "1. Verificando os dados disponíveis, quais outras hipóteses poderíamos formar em relação à mudança climática?\n",
    "\n",
    "# Exercício 3\n",
    "*Objetivo: abrir um documento CSV para verificar sua formatação*\n",
    "\n",
    "Agora, abra o  [arquivo csv](dados/INMET/2001/INMET_CO_DF_A001_BRASILIA_01-01-2001_A_31-12-2001.CSV) usando um editor de texto como Bloco de Notas ou equivalente.\n",
    "\n",
    "1. Como as colunas da tabela de dados são separadas?\n",
    "1. Que marcador (ponto ou vírgula) é usado para separar decimais nos números?\n",
    "\n"
   ]
  },
  {
   "cell_type": "markdown",
   "metadata": {},
   "source": [
    "# Exercício 4\n",
    "*Objetivo: usar o `pandas` para abrir dados em Python*\n",
    "\n",
    "* [Tutorial em vídeo - Parte 1](https://youtu.be/xDwpMtSDK3Y)\n",
    "* [Tutorial em vídeo - Parte 2](https://youtu.be/nxSQwTYYwOQ)\n",
    "\n",
    "1. No código abaixo, relacione cada um dos parâmetros da função `read_csv` a uma propriedade do arquivo csv que você identificou nos exercícios 2 e 3.\n",
    "1. Após a execução, o que é mostrado na tela?"
   ]
  },
  {
   "cell_type": "code",
   "execution_count": null,
   "metadata": {},
   "outputs": [],
   "source": [
    "import pandas as pd\n",
    "df = pd.read_csv('dados/INMET/2001/INMET_CO_DF_A001_BRASILIA_01-01-2001_A_31-12-2001.CSV', sep=';', encoding='latin1', decimal=',', skiprows=8)\n",
    "df.head()"
   ]
  },
  {
   "cell_type": "markdown",
   "metadata": {},
   "source": [
    "# Exercício 5\n",
    "*Objetivo: selecionar uma coluna de interesse em um `data frame`*\n",
    "\n",
    "[Link para tutorial em vídeo](https://youtu.be/0epxd_qn_nY)\n",
    "\n",
    "O código abaixo seleciona, de toda a nossa tabela de dados, somente a coluna referente à precipitação.\n",
    "\n",
    "1. Execute o código e confirme que ele está funcionando\n",
    "1. Modifique o código para que ele passe a selecionar a coluna referente à temperatura máxima."
   ]
  },
  {
   "cell_type": "code",
   "execution_count": null,
   "metadata": {},
   "outputs": [],
   "source": [
    "df_ = df['PRECIPITAÇÃO TOTAL, HORÁRIO (mm)']\n",
    "df_.head()"
   ]
  },
  {
   "cell_type": "markdown",
   "metadata": {},
   "source": [
    "# Exercício 6\n",
    "*Objetivo: avaliar valores máximos e mínimos*\n",
    "\n",
    "O código abaixo calcula o valor máximo de nossa coluna de dados calculada no exercício 5.\n",
    "1. Qual é a temperatura máxima registrada em Brasília em 2001?\n",
    "1. Qual é a temperatura máxima registrada em Brasília em 2021?\n",
    "1. Esses dois valores são suficientes como evidência válida da mudança climática? Por que?\n"
   ]
  },
  {
   "cell_type": "code",
   "execution_count": null,
   "metadata": {},
   "outputs": [],
   "source": [
    "print(df_.max())"
   ]
  },
  {
   "cell_type": "markdown",
   "metadata": {},
   "source": [
    "# Exercício 7\n",
    "*Objetivo: fazer e analisar uma figura mostrando elementos relevantes de uma série*\n",
    "\n",
    "O código abaixo abre cada um dos arquivos que temos disponíveis, calcula a precipitação/hora máxima em cada ano, e então mostra numa figura.\n",
    "\n",
    "1. Modifique o código que busca os dados para que ele passe a calcular a temperatura máxima anual.\n",
    "1. Encontre na [documentação da biblioteca matplotlib](https://matplotlib.org/3.1.1/api/_as_gen/matplotlib.pyplot.html) como podemos colocar rótulos (*labels*) nos eixos de nosso gráfico. Coloque os rótulos de forma a identificar as grandezas físicas que estão sendo mostradas em cada eixo.\n",
    "1. Encontre na [documentação da biblioteca matplotlib](https://matplotlib.org/3.1.1/api/_as_gen/matplotlib.pyplot.html) como podemos colocar um título no gráfico. Coloque um título no gráfico de forma que seu conteúdo seja entendido rapidamente por outras pessoas.\n",
    "1. Analisando seu gráfico, você diria que a estação metereológica de Brasília tem capturado evidências de mudança climática?"
   ]
  },
  {
   "cell_type": "code",
   "execution_count": null,
   "metadata": {},
   "outputs": [],
   "source": [
    "precipitacao = []\n",
    "#descomente.\n",
    "#for ano in range(2001, 2022):\n",
    "#    df_ = pd.read_csv('dados/INMET/'+str(ano)+'/INMET_CO_DF_A001_BRASILIA_01-01-'+str(ano)+'_A_31-12-'+str(ano)+'.CSV', sep=';', encoding='latin1', decimal=',', skiprows=8)\n",
    "#    precipitacao.append (df_[\"TEMPERATURA MÁXIMA NA HORA ANT. (AUT) (°C)\"].max())\n"
   ]
  }
 ],
 "metadata": {
  "kernelspec": {
   "display_name": "Python 3.7.12",
   "language": "python",
   "name": "python3"
  },
  "language_info": {
   "codemirror_mode": {
    "name": "ipython",
    "version": 3
   },
   "file_extension": ".py",
   "mimetype": "text/x-python",
   "name": "python",
   "nbconvert_exporter": "python",
   "pygments_lexer": "ipython3",
   "version": "3.7.12"
  },
  "orig_nbformat": 4,
  "vscode": {
   "interpreter": {
    "hash": "48a163085726af4aa892ebfc5efd6be8ee4b935d9ea37781e4f79f4457b77d39"
   }
  }
 },
 "nbformat": 4,
 "nbformat_minor": 2
}
