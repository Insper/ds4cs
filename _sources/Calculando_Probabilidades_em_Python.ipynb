{
  "cells": [
    {
      "cell_type": "markdown",
      "metadata": {
        "id": "CTkiSu1cQYeq"
      },
      "source": [
        "# 07 -  Calculando probabilidades em Python"
      ]
    },
    {
      "cell_type": "markdown",
      "metadata": {
        "id": "D6knsjbu83e3"
      },
      "source": [
        "## Lançamento de uma moeda"
      ]
    },
    {
      "cell_type": "code",
      "execution_count": null,
      "metadata": {
        "id": "agfZOPuX85OD"
      },
      "outputs": [],
      "source": [
        "espaco_amostral = {'cara', 'coroa'}"
      ]
    },
    {
      "cell_type": "code",
      "execution_count": null,
      "metadata": {
        "colab": {
          "base_uri": "https://localhost:8080/"
        },
        "id": "gLxq009O88c-",
        "outputId": "3388e632-4b68-438d-9797-c9a2872b43e3"
      },
      "outputs": [
        {
          "name": "stdout",
          "output_type": "stream",
          "text": [
            "A probabilidade de cara é 0.5\n"
          ]
        }
      ],
      "source": [
        "probabilidade_cara = 1 / len(espaco_amostral)\n",
        "print(f'A probabilidade de cara é {probabilidade_cara}')"
      ]
    },
    {
      "cell_type": "code",
      "execution_count": null,
      "metadata": {
        "id": "5O_gD47k-AQQ"
      },
      "outputs": [],
      "source": [
        "def resultado_cara(desfecho):\n",
        "  return desfecho == 'cara'\n",
        "\n",
        "def resultado_coroa(desfecho):\n",
        "  return desfecho == 'coroa'\n",
        "\n",
        "def resultado_qualquer(desfecho):\n",
        "  return desfecho in ('cara', 'coroa')"
      ]
    },
    {
      "cell_type": "code",
      "execution_count": null,
      "metadata": {
        "id": "wk3PqObM9E7o"
      },
      "outputs": [],
      "source": [
        "# Criando uma função que detecta eventos de interesse\n",
        "\n",
        "def obtem_evento_interesse(condicao_evento, espaco_amostral):\n",
        "  return set([desfecho for desfecho in espaco_amostral if condicao_evento(desfecho)])"
      ]
    },
    {
      "cell_type": "code",
      "execution_count": null,
      "metadata": {
        "id": "s-lE-rxA9tBh"
      },
      "outputs": [],
      "source": [
        "condicoes = [resultado_cara, resultado_coroa, resultado_qualquer]"
      ]
    },
    {
      "cell_type": "code",
      "execution_count": null,
      "metadata": {
        "colab": {
          "base_uri": "https://localhost:8080/"
        },
        "id": "8FrbzvKO-zQL",
        "outputId": "98dd8dd4-83be-4406-dd00-497952deb136"
      },
      "outputs": [
        {
          "name": "stdout",
          "output_type": "stream",
          "text": [
            "Condição resultado_cara\n",
            "evento: {'cara'}\n",
            "Condição resultado_coroa\n",
            "evento: {'coroa'}\n",
            "Condição resultado_qualquer\n",
            "evento: {'coroa', 'cara'}\n"
          ]
        }
      ],
      "source": [
        "for condicao in condicoes:\n",
        "  print(f'Condição {condicao.__name__}')\n",
        "  evento = obtem_evento_interesse(condicao, espaco_amostral)\n",
        "  print(f'evento: {evento}')"
      ]
    },
    {
      "cell_type": "code",
      "execution_count": null,
      "metadata": {
        "id": "psA5gPBW_HNg"
      },
      "outputs": [],
      "source": [
        "def calcula_probabilidade(evento_interesse, espaco_amostral):\n",
        "  evento = obtem_evento_interesse(evento_interesse, espaco_amostral)\n",
        "  return len(evento) / len(espaco_amostral)\n",
        "\n"
      ]
    },
    {
      "cell_type": "code",
      "execution_count": null,
      "metadata": {
        "colab": {
          "base_uri": "https://localhost:8080/"
        },
        "id": "gW2dEyhm_h4H",
        "outputId": "c769e722-1440-4e0d-8c34-88878fe38224"
      },
      "outputs": [
        {
          "name": "stdout",
          "output_type": "stream",
          "text": [
            "A probabilidade do evento resultado_cara acontecer é de 0.5\n",
            "A probabilidade do evento resultado_coroa acontecer é de 0.5\n",
            "A probabilidade do evento resultado_qualquer acontecer é de 1.0\n"
          ]
        }
      ],
      "source": [
        "for condicao in condicoes:\n",
        "  prob = calcula_probabilidade(condicao, espaco_amostral)\n",
        "  nome = condicao.__name__\n",
        "  print(f'A probabilidade do evento {nome} acontecer é de {prob}')"
      ]
    },
    {
      "cell_type": "markdown",
      "metadata": {
        "id": "qxFSb6qjQdcd"
      },
      "source": [
        "#### E se a moeda não for justa?"
      ]
    },
    {
      "cell_type": "code",
      "execution_count": null,
      "metadata": {
        "id": "4xwrwweIAdGH"
      },
      "outputs": [],
      "source": [
        "espaco_amostral_ponderado= {'cara': 4, 'coroa': 1}"
      ]
    },
    {
      "cell_type": "code",
      "execution_count": null,
      "metadata": {
        "id": "vqPCnBuKAkJn"
      },
      "outputs": [],
      "source": [
        "tamanho_espaco_amostral = sum(espaco_amostral_ponderado.values())"
      ]
    },
    {
      "cell_type": "code",
      "execution_count": null,
      "metadata": {
        "id": "l3PgcLv6AsUU"
      },
      "outputs": [],
      "source": [
        "evento = obtem_evento_interesse(resultado_qualquer, espaco_amostral_ponderado)"
      ]
    },
    {
      "cell_type": "code",
      "execution_count": null,
      "metadata": {
        "id": "J8q6HUFAA1I4"
      },
      "outputs": [],
      "source": [
        "qtd_eventos = sum(espaco_amostral_ponderado[desfecho] for desfecho in evento)"
      ]
    },
    {
      "cell_type": "code",
      "execution_count": null,
      "metadata": {
        "colab": {
          "base_uri": "https://localhost:8080/"
        },
        "id": "1CXkjgNqA12D",
        "outputId": "764b1af0-a92c-4103-cf19-a1dae6e6e0af"
      },
      "outputs": [
        {
          "data": {
            "text/plain": [
              "5"
            ]
          },
          "execution_count": 14,
          "metadata": {},
          "output_type": "execute_result"
        }
      ],
      "source": [
        "qtd_eventos"
      ]
    },
    {
      "cell_type": "code",
      "execution_count": null,
      "metadata": {
        "id": "VHNLLE0DBARY"
      },
      "outputs": [],
      "source": [
        "def calcula_probabilidade(condicao_interesse, espaco_amostral):\n",
        "  evento = obtem_evento_interesse(condicao_interesse, espaco_amostral)\n",
        "  if type(espaco_amostral) == type(set()):\n",
        "    return len(evento) / len(espaco_amostral)\n",
        "  qtd_eventos = sum(espaco_amostral[desfecho] for desfecho in evento)\n",
        "  return qtd_eventos/ sum(espaco_amostral.values())"
      ]
    },
    {
      "cell_type": "code",
      "execution_count": null,
      "metadata": {
        "colab": {
          "base_uri": "https://localhost:8080/"
        },
        "id": "lTag6jiaBmNJ",
        "outputId": "ce28648b-197a-4b9c-9677-c3a085fbcf05"
      },
      "outputs": [
        {
          "data": {
            "text/plain": [
              "0.2"
            ]
          },
          "execution_count": 16,
          "metadata": {},
          "output_type": "execute_result"
        }
      ],
      "source": [
        "calcula_probabilidade(resultado_coroa, espaco_amostral_ponderado)"
      ]
    },
    {
      "cell_type": "code",
      "execution_count": null,
      "metadata": {
        "colab": {
          "base_uri": "https://localhost:8080/"
        },
        "id": "gZEQUNdyBrN6",
        "outputId": "c93219df-d8eb-4989-9531-501f42d6c02b"
      },
      "outputs": [
        {
          "data": {
            "text/plain": [
              "0.5"
            ]
          },
          "execution_count": 17,
          "metadata": {},
          "output_type": "execute_result"
        }
      ],
      "source": [
        "calcula_probabilidade(resultado_coroa, espaco_amostral)"
      ]
    },
    {
      "cell_type": "markdown",
      "metadata": {
        "id": "fRzpTADWBzAb"
      },
      "source": [
        "# Exemplo 1\n",
        "\n",
        "Suponha que uma família tenha quatro filhos. Qual é a probabilidade de que exatamente duas das crianças sejam meninos? Assumiremos que cada criança tem a mesma probabilidade de ser um menino ou uma menina"
      ]
    },
    {
      "cell_type": "markdown",
      "metadata": {
        "id": "eHyl45e0DlLH"
      },
      "source": [
        "Para resolver esse problema, podemos usar a teoria das probabilidades. O espaço amostral para o gênero de quatro crianças, assumindo que cada criança tem igual probabilidade de ser menino (M) ou menina (F), pode ser representado por todas as combinações possíveis de meninos e meninas. Há ($2^4 = 16$) combinações possíveis, uma vez que cada criança tem 2 possibilidades (menino ou menina) e há 4 crianças.\n",
        "\n",
        "Para encontrar a probabilidade de que exatamente duas das crianças sejam meninos, precisamos contar o número de combinações em que isso ocorre. Podemos usar a fórmula de combinação para calcular isso, a fórmula é:\n",
        "\n",
        "\n",
        "$C(n, k) = \\frac{n!}{k!(n-k)!}$\n",
        "\n",
        "\n",
        "onde \\(n\\) é o número total de crianças (4 neste caso) e \\(k\\) é o número de meninos (2 neste caso). Assim, o número de maneiras de escolher 2 meninos de 4 crianças é:\n",
        "\n",
        "\n",
        "$C(4, 2) = \\frac{4!}{2!(4-2)!}$\n",
        "\n",
        "\n",
        "Depois de calcular isso, a probabilidade é simplesmente o número de combinações favoráveis (exatamente 2 meninos) dividido pelo número total de combinações possíveis (16). Dessa forma, a probabilidade de que exatamente duas das quatro crianças sejam meninos é de 0,375 ou 37,5%."
      ]
    },
    {
      "cell_type": "code",
      "execution_count": null,
      "metadata": {
        "id": "QdY3XyNeB8Vd"
      },
      "outputs": [],
      "source": [
        "possiveis_resultados = ['menino', 'menina']\n",
        "espaco_amostral = set()\n",
        "for filho1 in possiveis_resultados:\n",
        "  for filho2 in possiveis_resultados:\n",
        "    for filho3 in possiveis_resultados:\n",
        "      for filho4 in possiveis_resultados:\n",
        "        desfecho = (filho1, filho2, filho3, filho4)\n",
        "        espaco_amostral.add(desfecho)"
      ]
    },
    {
      "cell_type": "code",
      "execution_count": null,
      "metadata": {
        "id": "2_V3_xyyCToA"
      },
      "outputs": [],
      "source": [
        "def ter_dois_meninos(desfecho):\n",
        "  return len([filho for filho in desfecho if filho == 'menino']) == 2"
      ]
    },
    {
      "cell_type": "code",
      "execution_count": null,
      "metadata": {
        "id": "hLcYPaIICwO7"
      },
      "outputs": [],
      "source": [
        "prob = calcula_probabilidade(ter_dois_meninos, espaco_amostral)"
      ]
    },
    {
      "cell_type": "code",
      "execution_count": null,
      "metadata": {
        "colab": {
          "base_uri": "https://localhost:8080/"
        },
        "id": "6oEWWHjFC2LB",
        "outputId": "d2f00a30-7724-4b6c-9a6a-44a5a34a08ed"
      },
      "outputs": [
        {
          "name": "stdout",
          "output_type": "stream",
          "text": [
            "A probabilidade de nascer dois meninos nos 4 filhos é de 0.375\n"
          ]
        }
      ],
      "source": [
        "print(f'A probabilidade de nascer dois meninos nos 4 filhos é de {prob}')"
      ]
    },
    {
      "cell_type": "markdown",
      "metadata": {
        "id": "Wo4aPEaqELC_"
      },
      "source": [
        "Estamos calculando todas as combinações de uma maneira não muito eficiente. Vamos melhorar isso com a biblioteca itertools."
      ]
    },
    {
      "cell_type": "code",
      "execution_count": null,
      "metadata": {
        "id": "04ZGALQoC7gc"
      },
      "outputs": [],
      "source": [
        "from itertools import product"
      ]
    },
    {
      "cell_type": "code",
      "execution_count": null,
      "metadata": {
        "id": "QWDB_56TEXE_"
      },
      "outputs": [],
      "source": [
        "todas_combinacoes = product(possiveis_resultados, repeat=4)"
      ]
    },
    {
      "cell_type": "code",
      "execution_count": null,
      "metadata": {
        "colab": {
          "base_uri": "https://localhost:8080/"
        },
        "id": "YjQ0cnfxEfZb",
        "outputId": "c8ccd310-eab5-41e4-d84c-959eb4c19ef0"
      },
      "outputs": [
        {
          "data": {
            "text/plain": [
              "16"
            ]
          },
          "execution_count": 24,
          "metadata": {},
          "output_type": "execute_result"
        }
      ],
      "source": [
        "len(set(todas_combinacoes))"
      ]
    },
    {
      "cell_type": "code",
      "execution_count": null,
      "metadata": {
        "colab": {
          "base_uri": "https://localhost:8080/"
        },
        "id": "A3LTRFs6EvZO",
        "outputId": "9387984c-3289-445f-8aa4-56b6074663fe"
      },
      "outputs": [
        {
          "data": {
            "text/plain": [
              "16"
            ]
          },
          "execution_count": 25,
          "metadata": {},
          "output_type": "execute_result"
        }
      ],
      "source": [
        "len(espaco_amostral)"
      ]
    },
    {
      "cell_type": "code",
      "execution_count": null,
      "metadata": {
        "id": "UkrSf9a9FC05"
      },
      "outputs": [],
      "source": [
        "prob = calcula_probabilidade(ter_dois_meninos, set(todas_combinacoes)) ## execute antes o todas_combinacoes = product..."
      ]
    },
    {
      "cell_type": "code",
      "execution_count": null,
      "metadata": {
        "colab": {
          "base_uri": "https://localhost:8080/"
        },
        "id": "w-0D9oTGFQ0B",
        "outputId": "6cf65513-8676-4d6c-91f5-3188ce0875c9"
      },
      "outputs": [
        {
          "data": {
            "text/plain": [
              "0.375"
            ]
          },
          "execution_count": 29,
          "metadata": {},
          "output_type": "execute_result"
        }
      ],
      "source": [
        "prob"
      ]
    },
    {
      "cell_type": "markdown",
      "metadata": {
        "id": "CzGqZyhPFqZj"
      },
      "source": [
        "## Exercício 1\n",
        "\n",
        "Suponha que nos seja mostrado um dado justo de seis faces cujas faces estão numeradas de 1 a 6. O dado é lançado seis vezes. Qual é a probabilidade de que esses seis lançamentos de dados somem 21?"
      ]
    },
    {
      "cell_type": "code",
      "execution_count": null,
      "metadata": {
        "id": "_vtrQ83cGj0K"
      },
      "outputs": [],
      "source": []
    },
    {
      "cell_type": "markdown",
      "metadata": {
        "id": "ArbxmvqqG098"
      },
      "source": [
        "## Calculando probabilidades de um possível valor dentro de um intervalo"
      ]
    },
    {
      "cell_type": "code",
      "execution_count": null,
      "metadata": {
        "id": "gxzTOy9QG4CN"
      },
      "outputs": [],
      "source": [
        "def esta_em_um_intervalo(valor, minimo, maximo):\n",
        "  return minimo <= valor <= maximo"
      ]
    },
    {
      "cell_type": "code",
      "execution_count": null,
      "metadata": {
        "colab": {
          "base_uri": "https://localhost:8080/"
        },
        "id": "cSRd8hkHG_Us",
        "outputId": "091242b0-d39b-40b1-be1a-de79a07fb8e5"
      },
      "outputs": [
        {
          "data": {
            "text/plain": [
              "True"
            ]
          },
          "execution_count": 38,
          "metadata": {},
          "output_type": "execute_result"
        }
      ],
      "source": [
        "esta_em_um_intervalo(4, 2, 5)"
      ]
    },
    {
      "cell_type": "code",
      "execution_count": null,
      "metadata": {
        "id": "-gc9zuaJHB8p"
      },
      "outputs": [],
      "source": [
        "from collections import defaultdict\n",
        "espaco_amostral_ponderado = defaultdict(int)\n",
        "for desfecho in espaco_amostral:\n",
        "  total = sum(desfecho)\n",
        "  espaco_amostral_ponderado[total] += 1"
      ]
    },
    {
      "cell_type": "code",
      "execution_count": null,
      "metadata": {
        "colab": {
          "base_uri": "https://localhost:8080/",
          "height": 565
        },
        "id": "fs3W-YY2J1Tc",
        "outputId": "4454d954-7393-4a26-de92-6b67b61f97a0"
      },
      "outputs": [
        {
          "data": {
            "image/png": "[encoded data removed]",
            "text/plain": [
              "<Figure size 1000x600 with 1 Axes>"
            ]
          },
          "metadata": {},
          "output_type": "display_data"
        }
      ],
      "source": [
        "import matplotlib.pyplot as plt\n",
        "totais = list(espaco_amostral_ponderado.keys())\n",
        "frequencias = list(espaco_amostral_ponderado.values())\n",
        "\n",
        "# Plotando o gráfico de barras\n",
        "plt.figure(figsize=(10, 6))  # Define o tamanho da figura\n",
        "plt.bar(totais, frequencias, color='skyblue')  # Cria barras com os totais e suas respectivas frequências\n",
        "\n",
        "plt.title('Distribuição de Soma dos Lançamentos de Dado')  # Título do gráfico\n",
        "plt.xlabel('Soma Total')  # Rótulo do eixo X\n",
        "plt.ylabel('Frequência')  # Rótulo do eixo Y\n",
        "plt.xticks(totais)  # Garante que todos os totais sejam mostrados no eixo X\n",
        "\n",
        "plt.show()  # Exibe o gráfico\n"
      ]
    },
    {
      "cell_type": "code",
      "execution_count": null,
      "metadata": {
        "colab": {
          "base_uri": "https://localhost:8080/",
          "height": 565
        },
        "id": "0zbtx9Q5e2Rg",
        "outputId": "bee00a5c-08d6-4716-9ebd-5e9f7b1b51a0"
      },
      "outputs": [
        {
          "data": {
            "image/png": "[encoded data removed]",
            "text/plain": [
              "<Figure size 1000x600 with 1 Axes>"
            ]
          },
          "metadata": {},
          "output_type": "display_data"
        }
      ],
      "source": [
        "import matplotlib.pyplot as plt\n",
        "totais = list(espaco_amostral_ponderado.keys())\n",
        "frequencias = list(espaco_amostral_ponderado.values())\n",
        "proba = [x/sum(espaco_amostral_ponderado.values()) for x in frequencias]\n",
        "\n",
        "# Plotando o gráfico de barras\n",
        "plt.figure(figsize=(10, 6))  # Define o tamanho da figura\n",
        "plt.scatter(totais, proba, color='darkblue')  # Cria barras com os totais e suas respectivas frequências\n",
        "\n",
        "plt.title('Probabilidade da Soma dos Lançamentos de Dado')  # Título do gráfico\n",
        "plt.xlabel('Soma Total')  # Rótulo do eixo X\n",
        "plt.ylabel('Probabilidade')  # Rótulo do eixo Y\n",
        "plt.xticks(totais)  # Garante que todos os totais sejam mostrados no eixo X\n",
        "\n",
        "plt.show()  # Exibe o gráfico\n"
      ]
    },
    {
      "cell_type": "code",
      "execution_count": null,
      "metadata": {
        "id": "hdD-XAHoHXLi"
      },
      "outputs": [],
      "source": [
        "prob = calcula_probabilidade(lambda x : esta_em_um_intervalo(x, 10, 20), espaco_amostral_ponderado)"
      ]
    },
    {
      "cell_type": "code",
      "execution_count": null,
      "metadata": {
        "colab": {
          "base_uri": "https://localhost:8080/"
        },
        "id": "83VBEjhsKsBW",
        "outputId": "30947379-8b08-46d2-c4d0-1cdeb8b83976"
      },
      "outputs": [
        {
          "data": {
            "text/plain": [
              "0.45177469135802467"
            ]
          },
          "execution_count": 47,
          "metadata": {},
          "output_type": "execute_result"
        }
      ],
      "source": [
        "prob"
      ]
    },
    {
      "cell_type": "markdown",
      "metadata": {
        "id": "9tEu2eQSmh-T"
      },
      "source": [
        "## Lançando 10 moedas e uma introdução a distribuição binomial"
      ]
    },
    {
      "cell_type": "markdown",
      "metadata": {
        "id": "EnMipzl8HRuu"
      },
      "source": [
        "Suponha o lançamento de 10 moedas justas. Qual a probabilidade de obter um número maior ou igual a 8 caras nesse experimento?\n",
        "\n",
        "\n",
        "Vamos aprender nas próximas aulas, que para calcular a probabilidade de obter 8 ou mais caras ao lançar 10 moedas justas, podemos utilizar a distribuição binomial. A distribuição binomial está intimamente relacionada ao experimento de Bernoulli, ambos conceitos fundamentais em teoria da probabilidade.\n",
        "\n",
        "\n",
        "Um experimento de Bernoulli é um experimento aleatório que tem apenas dois resultados possíveis, comumente chamados de \"sucesso\" e \"fracasso\". A probabilidade de sucesso é denotada por \\(p\\) e a probabilidade de fracasso é \\(1-p\\). Lançar uma moeda (considerando cara como sucesso, por exemplo) e lançar um dado (considerando obter um seis como sucesso, por exemplo) são exemplos de experimentos de Bernoulli, desde que se esteja interessado em apenas um resultado (sucesso) em detrimento do outro (fracasso).\n",
        "\n",
        "A distribuição binomial é usada para modelar o número de sucessos em\n",
        "n ensaios independentes de Bernoulli, cada um com a mesma probabilidade de sucesso p. Neste caso, um sucesso pode ser definido como obter \"cara\" em um lançamento de moeda, e a probabilidade de sucesso p é de 0,5, pois a moeda é justa.\n",
        "\n",
        "A fórmula da probabilidade binomial é:\n",
        "\n",
        "$\n",
        "P(X = k) = \\binom{n}{k} p^k (1-p)^{n-k}\n",
        "$\n",
        "\n",
        "onde:\n",
        "- $(P(X = k))$ é a probabilidade de obter exatamente $(k)$ sucessos em $(n)$ tentativas,\n",
        "- $(\\binom{n}{k})$ é o coeficiente binomial que calcula o número de maneiras de escolher $(k)$ sucessos de $(n)$ tentativas,\n",
        "- $(p)$ é a probabilidade de sucesso em cada tentativa,\n",
        "- $(n)$ é o número total de tentativas,\n",
        "- $(k)$ é o número de sucessos desejados.\n",
        "\n",
        "Para calcular a probabilidade de obter 8 ou mais caras em 10 lançamentos, somamos as probabilidades de obter exatamente 8 caras, exatamente 9 caras, e exatamente 10 caras:\n",
        "\n",
        "$\n",
        "P(X \\geq 8) = P(X = 8) + P(X = 9) + P(X = 10)\n",
        "$\n",
        "\n",
        "\n",
        "A probabilidade de obter 8 ou mais caras ao lançar 10 moedas justas é de aproximadamente 0,0547, ou 5,47%.\n"
      ]
    },
    {
      "cell_type": "code",
      "execution_count": null,
      "metadata": {
        "id": "fvOjvRkbMQwJ"
      },
      "outputs": [],
      "source": [
        "def gera_espaco_amostral_moedas(jogadas = 10):\n",
        "  espaco_amostral_ponderado = defaultdict(int)\n",
        "  for lancamento in product(['cara', 'coroa'], repeat=jogadas):\n",
        "    qtd_caras = len([desfecho for desfecho in lancamento if desfecho == 'cara'])\n",
        "    espaco_amostral_ponderado[qtd_caras] += 1\n",
        "  return espaco_amostral_ponderado"
      ]
    },
    {
      "cell_type": "code",
      "execution_count": null,
      "metadata": {
        "id": "ADvJ8lueMwTM"
      },
      "outputs": [],
      "source": [
        "espaco_amostral_moedas = gera_espaco_amostral_moedas()"
      ]
    },
    {
      "cell_type": "code",
      "execution_count": null,
      "metadata": {
        "colab": {
          "base_uri": "https://localhost:8080/",
          "height": 565
        },
        "id": "cMzsTNsTM0DT",
        "outputId": "03cb6a44-0fdf-4ef5-c948-05242b61e76f"
      },
      "outputs": [
        {
          "data": {
            "image/png": "[encoded data removed]",
            "text/plain": [
              "<Figure size 1000x600 with 1 Axes>"
            ]
          },
          "metadata": {},
          "output_type": "display_data"
        }
      ],
      "source": [
        "import matplotlib.pyplot as plt\n",
        "totais = list(espaco_amostral_moedas.keys())\n",
        "frequencias = list(espaco_amostral_moedas.values())\n",
        "\n",
        "# Plotando o gráfico de barras\n",
        "plt.figure(figsize=(10, 6))  # Define o tamanho da figura\n",
        "plt.bar(totais, frequencias, color='skyblue')  # Cria barras com os totais e suas respectivas frequências\n",
        "\n",
        "plt.title('Distribuição da Qtd de Caras ao lançar 10 moedas')  # Título do gráfico\n",
        "plt.xlabel('Qtd caras')  # Rótulo do eixo X\n",
        "plt.ylabel('Frequência')  # Rótulo do eixo Y\n",
        "plt.xticks(totais)  # Garante que todos os totais sejam mostrados no eixo X\n",
        "\n",
        "plt.show()  # Exibe o gráfico\n"
      ]
    },
    {
      "cell_type": "code",
      "execution_count": null,
      "metadata": {
        "id": "4nsAJ662MYfy"
      },
      "outputs": [],
      "source": [
        "prob = calcula_probabilidade(lambda x : esta_em_um_intervalo(x, 8, 10), espaco_amostral_moedas)"
      ]
    },
    {
      "cell_type": "code",
      "execution_count": null,
      "metadata": {
        "colab": {
          "base_uri": "https://localhost:8080/"
        },
        "id": "-h31z9oWNW0B",
        "outputId": "f83f25a1-b475-4f96-cb7a-d277a0aac822"
      },
      "outputs": [
        {
          "name": "stdout",
          "output_type": "stream",
          "text": [
            "A probabilidade de obter 8 ou mais caras em um experimento de lançamento de 10 moedas é de 0.0546875\n"
          ]
        }
      ],
      "source": [
        "print(f'A probabilidade de obter 8 ou mais caras em um experimento de lançamento de 10 moedas é de {prob}')"
      ]
    },
    {
      "cell_type": "code",
      "execution_count": null,
      "metadata": {
        "id": "dDwgIlH1NczC"
      },
      "outputs": [],
      "source": [
        "def oito_caras(desfecho):\n",
        "  return len([face for face in desfecho if face == 'cara']) == 8\n",
        "\n",
        "def nove_caras(desfecho):\n",
        "  return len([face for face in desfecho if face == 'cara']) == 9\n",
        "\n",
        "def dez_caras(desfecho):\n",
        "  return len([face for face in desfecho if face == 'cara']) == 10"
      ]
    },
    {
      "cell_type": "code",
      "execution_count": null,
      "metadata": {
        "id": "UzlAry42N-oy"
      },
      "outputs": [],
      "source": [
        "espaco_moedas = set(product(['cara', 'coroa'], repeat=10))"
      ]
    },
    {
      "cell_type": "code",
      "execution_count": null,
      "metadata": {
        "id": "ytIw2wqwOGOf"
      },
      "outputs": [],
      "source": [
        "prob8 = calcula_probabilidade(oito_caras, espaco_moedas)\n",
        "prob9 = calcula_probabilidade(nove_caras, espaco_moedas)\n",
        "prob10 = calcula_probabilidade(dez_caras, espaco_moedas)\n"
      ]
    },
    {
      "cell_type": "code",
      "execution_count": null,
      "metadata": {
        "colab": {
          "base_uri": "https://localhost:8080/"
        },
        "id": "8wDP7ZMUOQFV",
        "outputId": "08c1f74f-8406-4435-c8d6-aa8c30cace60"
      },
      "outputs": [
        {
          "name": "stdout",
          "output_type": "stream",
          "text": [
            "A probabilidade de obter 8 ou mais caras é de 0.0546875\n"
          ]
        }
      ],
      "source": [
        "print(f'A probabilidade de obter 8 ou mais caras é de {prob8+prob9+prob10}')"
      ]
    },
    {
      "cell_type": "markdown",
      "metadata": {
        "id": "CvWHmzEbjwVN"
      },
      "source": [
        "## Mais um problema - Amostra com reposição"
      ]
    },
    {
      "cell_type": "markdown",
      "metadata": {
        "id": "0CpE3HwHjywT"
      },
      "source": [
        "1. Uma caixa contém 10 bolas brancas, 20 bolas vermelhas e 30 bolas verdes. Se tirarmos 5 bolas da caixa com reposição (pegamos a bola, observamos de que cor ela é e colocamos de volta na caixa). Queremos saber a probabilidade de:\n",
        "\n",
        "- Pegue 3 brancas e 2 vermelhas.\n",
        "- Pegue tudo da mesma cor.\n",
        "\n",
        "Execute o experimento 1000 vezes e calcule as probabilidades acima."
      ]
    },
    {
      "cell_type": "code",
      "execution_count": null,
      "metadata": {
        "id": "fmqMMJMoiLyS"
      },
      "outputs": [],
      "source": [
        "caixa = {}\n",
        "\n",
        "for i in range(60):\n",
        "    if i < 10:\n",
        "        caixa[i] = \"Branca\"\n",
        "    elif (i > 9) and (i < 30):\n",
        "        caixa[i] = \"Vermelha\"\n",
        "    else:\n",
        "        caixa[i] = \"Verde\""
      ]
    },
    {
      "cell_type": "code",
      "execution_count": null,
      "metadata": {
        "id": "MiKKCJrEjN4i"
      },
      "outputs": [],
      "source": [
        "# faça aqui a sua solução"
      ]
    }
  ],
  "metadata": {
    "colab": {
      "provenance": []
    },
    "kernelspec": {
      "display_name": "Python 3",
      "name": "python3"
    },
    "language_info": {
      "name": "python"
    }
  },
  "nbformat": 4,
  "nbformat_minor": 0
}
