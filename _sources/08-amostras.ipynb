{
 "cells": [
  {
   "cell_type": "markdown",
   "metadata": {},
   "source": [
    "# Variáveis Aleatórias Discretas\n",
    "**Objetivo da aula**: ao fim desta aula, o aluno será capaz de diferenciar amostras de populações, e usar probabilidades estimadas para descrever populações no caso discreto."
   ]
  },
  {
   "cell_type": "code",
   "execution_count": 1,
   "metadata": {},
   "outputs": [],
   "source": [
    "import pandas as pd\n"
   ]
  },
  {
   "cell_type": "markdown",
   "metadata": {},
   "source": [
    "# Texto introdutório\n",
    "\n",
    "Até o momento, nós estamos assumindo que nossos dados representam toda a população que nos interessa: temos dados de todos os países do mundo, ou então de todos os clientes do iFood, ou então sobre todas as medições de uma estação metereológica. Em várias situações, isso é absolutamente plausível (afinal, nós mesmos conseguimos esses dados), mas em algumas situações é absolutamente infactível. Um exemplo disso é quando fazemos um teste em pequena escala para avaliar um tratamento, uma intervenção de marketing ou uma nova interface de um sistema. Nesse caso, nossos dados representam somente uma *amostra* de nossa *população*. \n",
    "\n",
    "A consequência disso é que não somos mais capazes de calcular diretamente a média $\\mu$ e o desvio padrão $\\sigma$. Ao invés disso, precisamos usar as estimativas correspondentes $\\bar{X}$ e $s$. O cálculo deles é bastante semelhante às contrapartidas populacionais, exceto pelo denominados $N-1$ em $s$:\n",
    "\n",
    "Conceito | População | Amostra\n",
    "--- | ---  | --- \n",
    "Definição | Conjunto de todos os indivíduos de um determinado grupo | Conjunto com alguns elementos de uma população, escolhidos (ou *amostrados*) aleatoriamente\n",
    "Centralidade | Média populacional:  $\\mu = \\sum_{n=1}^N{x_n}/N$ | Média amostral:  $\\bar{X} = \\sum_{n=1}^N{x_n}/N$ \n",
    "Dispersão | Desvio padrão populacional: $\\sigma = \\sqrt{\\sum_{n=1}^N ({x_n}-\\mu)^2/N}$ | Desvio padrão amostral: $s =  \\sqrt{\\sum_{n=1}^N ({x_n}-\\bar{X})^2/(N-1)}$\n",
    "\n",
    "A *interpretação* deles, porém, é bastante diferente. Quando usamos $\\mu$, temos os dados de toda nossa população. Quando usamos $\\bar{X}$, porém, a informação é somente uma *estimativa* de $\\mu$. Por exemplo: não podemos (em princípio) medir a altura de todas as pessoas do mundo para calcular a média de altura da humanidade (que seria $\\mu$), mas podemos calcular a média de altura de algumas pessoas (gerando $\\bar{X}$) e então usar esse valor como uma estimativa de $\\mu$. O mesmo vale para a relação entre $\\sigma$ e $s$.\n",
    "\n",
    "**importante: por padrão, o `pandas` calcula a média e o desvio padrão *amostrais*.**"
   ]
  },
  {
   "cell_type": "markdown",
   "metadata": {},
   "source": [
    "# Exercício 1\n",
    "*Objetivo: descrever a diferença entre as médias populacional e amostral*\n",
    "\n",
    "O código abaixo usa os dados que temos sobre o florestamento em países. Nele, calculamos a média populacional $\\mu$ e a média amostral $\\bar{X}$ para uma amostra de $N$ países em 2020.\n",
    "\n",
    "1. Por que $\\mu$ não muda quando executamos o código novamente?\n",
    "1. Por que $\\bar{X}$ muda?\n",
    "1. Faça um histograma dos valores de $\\bar{X}$ se executarmos o processo de amostragem 1000 vezes.\n",
    "1. Faça um outro histograma para $\\bar{X}$, também executando o processo de amostragem 1000 vezes, mas agora alterando o valor de $N$ para 30. Qual foi a diferença observada?"
   ]
  },
  {
   "cell_type": "code",
   "execution_count": 30,
   "metadata": {},
   "outputs": [
    {
     "name": "stdout",
     "output_type": "stream",
     "text": [
      "32.08994149987757 42.40743467045144\n"
     ]
    }
   ],
   "source": [
    "df_area_florestal = pd.read_csv('dados/WorldBank/API_AG.LND.FRST.ZS_DS2_en_csv_v2_3731376.csv', skiprows=3)\n",
    "mu = df_area_florestal['2020'].mean()\n",
    "\n",
    "N = 5\n",
    "xbar = df_area_florestal['2020'].sample(N).mean()\n",
    "\n",
    "print(mu, xbar)"
   ]
  },
  {
   "cell_type": "markdown",
   "metadata": {},
   "source": [
    "# Exercício 2\n",
    "*Objetivo: estimar probabilidades baseado num modelo*\n",
    "\n",
    "Se você chegou até aqui, então sabe que:\n",
    "\n",
    "* Em algumas situações, nós não temos acesso a toda a população de interesse - somente a uma amostra dela,\n",
    "* Quanto maior é a amostra (ou seja, quanto maior é $N$), menor é o desvio padrão da estimativa $\\bar{X}$.\n",
    "\n",
    "Porém, em contraposição a isso, existem fenômenos que são tão simples que conseguimos fazer modelos matemáticos muito precisos para eles. Um desses fenômenos é o de jogar uma moeda e verificar se saiu \"cara\" ou \"coroa\". É claro que a moeda, ao ser jogada, obedece fenômenos da física, propagações de momentos de inércia, colisões semi-elásticas, etc., e isso determina sua trajetória. Porém, esses fatores todos são tão delicados, incontroláveis e complexos que geralmente atribuímos seus impactos ao mero acaso, ou \"chance\".\n",
    "\n",
    "É muito provável (com o perdão do trocadilho) que você não vá passar horas jogando moedas por aí. Porém, há outros fenômenos que são muito parecidos com jogar uma moeda. Por exemplo:\n",
    "\n",
    "* Conversão de clientes: se um cliente visita seu site, ele pode ou não clicar em \"comprar\"\n",
    "* Resultado esportivo: se um time de futebol joga uma partida, ele pode ou não vencer\n",
    "* Fraudes de cartão de crédito: se uma compra é feita com cartão de crédito, ela pode ou não ser uma fraude\n",
    "\n",
    "## Distribuições\n",
    "\n",
    "Quando temos fenômenos que são dependentes do acaso para acontecerem (e veja, acaso, neste caso, significa \"fatores que podem até ser causais, mas variam de forma incontrolável\"), dizemos que eles têm uma \"probabilidade\" de acontecer. Voltando à nossa moeda, dizemos que há uma *probabilidade* de sair cara e uma *probabilidade* de sair coroa.\n",
    "\n",
    "O ato de jogar a moeda significa *realizar um experimento*. A soma das probabilidades de todos os resultados possíveis de um experimento é sempre igual a 1 (ou 100%). Então, se nossa moeda está bem balanceada, a probabilidade de sair cara é a mesma probabilidade de sair coroa, ambas iguais a $0.5$ e somando um total de 1, ou:\n",
    "\n",
    "$$\n",
    "P(\\text{cara})=0.5 \\\\\n",
    "P(\\text{coroa})=0.5\n",
    "$$\n",
    "\n",
    "Nosso modelo matemático mostra como essa probabilidade total (de 1) se *distribui* entre os resultados possíveis. Por isso, esse tipo de modelo é chamado de *distribuição*. Como o resultado da jogada é aleatório, ele é chamado de *variável aleatória*.\n",
    "\n",
    "## Enunciado do exercício\n",
    "\n",
    "Uma das grandes rivalidades da NBA é entre os times do Chicago Bulls (que já teve o Michael Jordan) e o Los Angeles Lakers (que já teve o Magic Johson). De acordo com [dados históricos](https://www.landofbasketball.com/head_to_head_gl/lakers_vs_bulls_game_log_season.htm), historicamente (desde 1966) os times jogaram 161 vezes, com 66 vitórias dos Bulls e 95 vitórias dos Lakers. Se escolhermos um jogo aleatório entre todos esses da série histórica, qual é a probabilidade de escolhermos um jogo em que há vitória dos Bulls?"
   ]
  },
  {
   "cell_type": "markdown",
   "metadata": {},
   "source": [
    "# Exercício 3\n",
    "*Objetivo: calcular a esperança e a variância para distribuições e comparar com resultados empíricos*\n",
    "\n",
    "## Propriedades de distribuições\n",
    "\n",
    "Assim como tínhamos a média e o desvio padrão em populações e amostras, podemos calcular medidas de centralidade e dispersão para distribuições:\n",
    "\n",
    "* Centralidade: a *esperança* $E(X)=\\sum_{n=1}^N P(x_n) x_n$\n",
    "* Dispersão: a *variância* $\\text{Var}(X) =  \\sum_{n=1}^N P(x_n) ({x_n}-E(X))^2$\n",
    "\n",
    "Lembrando que o desvio padrão é simplesmente a raiz quadrada da variância!\n",
    "\n",
    "### EXEMPLO: Cálculo da média e da variância em uma jogada de moedas\n",
    "\n",
    "Por exemplo, para o caso da moeda, se associarmos que cara=0 e coroa=1, então temos que os resultados possíveis de um experimento são $x_1=\\text{cara}=0$ e $x_2=\\text{cara}=1$. Portanto, podemos calcular a esperança: \n",
    "\n",
    "$$\n",
    "\\begin{align*}\n",
    "E(X) &= \\sum_{n=1}^N P(x_n) x_n\\\\ \n",
    "&= P(\\text{cara}) \\times 0 + P(\\text{coroa}) \\times 1 \\\\\n",
    "&= 0.5 \\times 0 + 0.5 \\times 1 \\\\\n",
    "&= 0.5\n",
    "\\end{align*}\n",
    "$$\n",
    "\n",
    "e a variância:\n",
    "\n",
    "$$\n",
    "\\begin{align*}\n",
    "\\text{Var}(X) &=  \\sum_{n=1}^N P(x_n) ({x_n}-E(X))^2\\\\ \n",
    "&= P(\\text{cara}) \\times (0-0.5)^2 + P(\\text{coroa}) \\times (1-0.5)^2 \\\\\n",
    "&= 0.5 \\times (-0.5)^2 + 0.5 \\times (0.5)^2 \\\\\n",
    "&= 0.5 \\times 0.25 + 0.5 \\times 0.25\\\\\n",
    "&= 0.25\n",
    "\\end{align*}\n",
    "$$\n",
    "\n",
    "## Enunciado do exercício\n",
    "\n",
    "Uma casa de apostas da NBA está recebendo apostas para o jogo Bulls vs. Lakers. As condições da aposta são as seguintes:\n",
    "\n",
    "* Se o apostador escolher os Bulls, e os Bulls vencerem, ele recebe R$2,00 para cada real apostado;\n",
    "* Se o apostador escolher os Lakers, e os Lakers vencerem, ele recebe R$1,40 para cada real apostado;\n",
    "* O apostador não recebe de volta o valor apostado, isto é, o retorno é somente o que recebeu de volta por sua aposta.\n",
    "\n",
    "(a) Qual é a expectativa de retorno por real apostado para cada um dos casos (apostar nos Bulls ou nos Lakers)\n",
    "\n",
    "(b) Qual é a variância e o desvio padrão do retorno esperados para apostadores dos Bulls? E dos Lakers?\n",
    "\n",
    "\n",
    "\n",
    "\n"
   ]
  },
  {
   "cell_type": "markdown",
   "metadata": {},
   "source": []
  },
  {
   "cell_type": "code",
   "execution_count": 42,
   "metadata": {},
   "outputs": [],
   "source": [
    "# Resolva o exercício aqui"
   ]
  },
  {
   "cell_type": "code",
   "execution_count": null,
   "metadata": {},
   "outputs": [],
   "source": []
  },
  {
   "cell_type": "markdown",
   "metadata": {},
   "source": [
    "# Exercício 3\n",
    "*Objetivo: aplicar o conceito de valor esperado e variância para analisar uma intervenção de marketing*\n",
    "\n",
    "Um website tem uma taxa de conversão típica de 10%, com variações para mais ou para menos. Foi feita uma intervenção de marketing para melhorar a usabilidade e a taxa de conversão na semana seguinte foi de 12%, aumentando as vendas em R$100.000,00.\n",
    "\n",
    "Essa alteração na taxa de conversão representa uma alteração de mais de um desvio padrão em relação à condição inicial, ou trata-se de uma alteração que pode ser fruto da variabilidade natural das taxas de conversão do website?"
   ]
  },
  {
   "cell_type": "code",
   "execution_count": 44,
   "metadata": {},
   "outputs": [],
   "source": [
    "# Resolva seu exercício aqui"
   ]
  },
  {
   "cell_type": "markdown",
   "metadata": {},
   "source": [
    "# Exercício 4\n",
    "*Objetivo: calcular a esperança e variância da soma de variáveis aleatórias independentes*\n",
    "\n",
    "## Somando variáveis aleatórias independentes\n",
    "\n",
    "Algumas variáveis aleatórias são chamadas de \"independentes\". Duas variáveis são independentes entre si quando realizar o experimento sobre uma delas não tem nenhum impacto nas probabilidades da outra.\n",
    "\n",
    "Duas variáveis independentes são, por exemplo, duas jogadas de moeda: a segunda jogada de moeda não é influenciada de forma alguma pela primeira jogada.\n",
    "\n",
    "Duas variáveis dependentes são, por exemplo, duas ações do mesmo setor na bolsa de valores: ao analisar o movimento de uma delas, é possível ter informações sobre o movimento da outra.\n",
    "\n",
    "Além de jogadas de moedas, também costumam ser indepentes: clientes (especialmente em lojas online), participantes de pesquisas e desastres naturais como terremotos.\n",
    "\n",
    "Quando somamos duas variáveis independentes, temos que:\n",
    "\n",
    "* $E(X+Y) = E(X) + E(Y)$\n",
    "* $\\text{Var}(X+Y) = \\text{Var}(X) + \\text{Var}(Y)$\n",
    "\n",
    "### Exemplo\n",
    "\n",
    "Numa casa de apostas, eu jogo uma moeda. Caso saia cara, ganho 1 real. Caso saia coroa, perco 1 real. Nesse caso, ao jogar a moeda uma vez, tenho:\n",
    "\n",
    "$$E(X) = 1 \\times 0.5 + (-1) \\times 0.5 = 0$$\n",
    "\n",
    "e\n",
    "\n",
    "$$\\text{Var}(X) = 0.5 \\times 1^2 + 0.5 \\times (-1)^2 = 1$$\n",
    "\n",
    "Caso eu jogue duas moedas, tenho:\n",
    "\n",
    "$$E(X+Y) = E(X) + E(Y) = 0 + 0 = 0$$\n",
    "\n",
    "e \n",
    "\n",
    "$$\\text{Var}(X+Y) = \\text{Var}(X) + \\text{Var}(Y) = 1 + 1 = 2$$\n",
    "\n",
    "## Enunciado do exercício\n",
    "\n",
    "Sabendo das probabilidades de apostas de basquete da NBA, calcule o retorno esperado e a variância para um jogador que decide apostar nos Bulls em 10 jogos consecutivos."
   ]
  },
  {
   "cell_type": "markdown",
   "metadata": {},
   "source": [
    "# Exercício 5\n",
    "*Objetivo: estimar o custo envolvido em seguros e entender o modelo estatístico das seguradoras*\n",
    "\n",
    "\n",
    "Em maio de 2023, [houve 6.869 casos de roubos de automóveis](https://olhardigital.com.br/2023/07/11/carros-e-tecnologia/roubos-e-furtos-de-carros-crescem-23-em-sp-saiba-quais-sao-os-mais-visados/#:~:text=os%20mais%20visados-,Roubos%20e%20furtos%20de%20carros%20crescem%2023%25%20em%20SP%3B%20saiba,quais%20s%C3%A3o%20os%20mais%20visados&text=O%20n%C3%BAmero%20de%20roubos%20e,No%20total%2C%20foram%206.869%20casos.) em São Paulo. Também, houve [209 acidentes](https://g1.globo.com/sp/sao-paulo/noticia/2023/04/24/cidade-de-sp-registra-no-1-trimestre-de-2023-maior-numero-de-mortes-no-transito-dos-ultimos-sete-anos.ghtml) no primeiro semestre de 2023. Segundo [dados de 2021](https://garagem360.com.br/carros-e-motos-em-sp-descubra-quantos-milhoes-circulam-conforme-pesquisa/), há  8,8 milhões de automóveis na cidade de São Paulo. Com medo do roubo, a maior parte das pessoas faz seguro.\n",
    "\n",
    "Para mantermos nossos cálculos mais simples, vamos assumir que o seguro significa que, caso o carro seja roubado ou sofra um acidente, ele será inteiramente substituído pela seguradora. Todos os cálculos realizados aqui serão para o período de um mês, assumindo os dados acima, e também assumindo que um cliente só pode sofrer um sinistro nesse mês.\n",
    "\n",
    "Usando dados aproximados (se quiser, troque essas informações pelas do seu próprio carro!), vamos assumir que um carro que vale, pela Tabela FIPE, R$37.000,00, paga seguro anual de R$2.000,00. Por simplicidade, vamos assumir que todos os habitantes de São Paulo têm o mesmo carro e pagam esse mesmo valor.\n",
    "\n",
    "(a) Qual é a probabilidade de ocorrer um sinistro (roubo ou acidente) em um carro qualquer em São Paulo durante o período de um mês?\n",
    "\n",
    "(b) Qual é o custo, para a seguradora, de ocorrer um sinistro?\n",
    "\n",
    "(c) Qual é a expectativa de custo, para a seguradora, para cada cliente?\n",
    "\n",
    "(d) Qual é a diferença entre o valor pago e a expectativa de custo, isto é, a expectativa de lucro da seguradora, para cada cliente?\n",
    "\n",
    "(e) Qual é o desvio padrão do custo, para a seguradora, de cada cliente?\n",
    "\n",
    "(f) Assumindo o retorno esperado e o desvio padrão, é seguro para a seguradora ter apenas um cliente?\n",
    "\n",
    "(g) Usando as propriedades de esperança e variância, calcule a esperança, a variância e o desvio padrão para uma seguradora que tem como clientes 10% dos carros de São Paulo. Assuma que cada motorista é independente, isto é, que ocorrer um roubo ou acidente com um carro não tem impacto nenhum nos roubos e acidentes de outros carros.\n",
    "\n",
    "(h) Com o retorno esperado e o desvio padrão para o caso em que a seguradora tem muitos clientes, você acredita que se trata de um modelo de negócios viável?\n",
    "\n",
    "(i) Estatisticamente, qual é a vantagem que a seguradora oferece para seu cliente?"
   ]
  },
  {
   "cell_type": "code",
   "execution_count": null,
   "metadata": {},
   "outputs": [],
   "source": []
  }
 ],
 "metadata": {
  "kernelspec": {
   "display_name": "cdados",
   "language": "python",
   "name": "python3"
  },
  "language_info": {
   "codemirror_mode": {
    "name": "ipython",
    "version": 3
   },
   "file_extension": ".py",
   "mimetype": "text/x-python",
   "name": "python",
   "nbconvert_exporter": "python",
   "pygments_lexer": "ipython3",
   "version": "3.11.4"
  },
  "orig_nbformat": 4
 },
 "nbformat": 4,
 "nbformat_minor": 2
}
