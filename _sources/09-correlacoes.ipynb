{
 "cells": [
  {
   "cell_type": "markdown",
   "metadata": {},
   "source": [
    "# Correlações\n",
    "**Objetivo da aula**: ao fim desta aula, o aluno será capaz de encontrar correlações entre variáveis para gerar decisões e planejamentos baseados em evidências."
   ]
  },
  {
   "cell_type": "code",
   "execution_count": 2,
   "metadata": {},
   "outputs": [],
   "source": [
    "import pandas as pd\n",
    "import matplotlib.pyplot as plt\n",
    "plt.style.use('default')\n",
    "import seaborn as sns\n"
   ]
  },
  {
   "cell_type": "markdown",
   "metadata": {},
   "source": [
    "# Texto introdutório\n",
    "\n",
    "Em muitas situações, dizemos que \"quanto mais X, mais Y\". Um exemplo disso é quando pensamos que \"quanto mais tempo de estudo, melhor o desempenho na prova\". Para fins de exemplo, inventei os dados abaixo:"
   ]
  },
  {
   "cell_type": "code",
   "execution_count": 13,
   "metadata": {},
   "outputs": [
    {
     "data": {
      "image/png": "[encoded data removed]",
      "text/plain": [
       "<Figure size 200x200 with 1 Axes>"
      ]
     },
     "metadata": {},
     "output_type": "display_data"
    }
   ],
   "source": [
    "df = pd.DataFrame()\n",
    "df['Tempo de estudo (h)'] = [1.5, 2.2, 3, 4, 3, 2, 2, 1, 4]\n",
    "df['Nota na prova'] = [5, 6, 7,7, 8, 6, 6.5, 4.5, 8]\n",
    "plt.figure(figsize=(2,2))\n",
    "sns.scatterplot(data=df, x='Tempo de estudo (h)', y='Nota na prova')\n",
    "plt.show()"
   ]
  },
  {
   "cell_type": "markdown",
   "metadata": {},
   "source": [
    "O gráfico que foi desenhado na tela é um \"gráfico de espalhamento\", ou \"scatterplot\". Nele, cada ponto é um aluno, e sua posição indica o tempo de estudo (no eixo X) e a nota na prova (eixo Y). Veja que, embora os pontos não formem uma reta perfeita, eles se parecem mais com uma reta que se fossem pontos aleatórios!\n",
    "\n",
    "A força dessa associação do crescimento de uma variável ao crescimento da outra variável é chamado de *correlação*. A correlação é calculada por:\n",
    "\n",
    "$$\n",
    " r_{xy} = \\sum_{i=1}^N \\frac{ (x_i-\\mu_x) (y_i-\\mu_y) }{N \\sigma_x \\sigma_y}  \n",
    "$$, \n",
    "onde:\n",
    "\n",
    "* $N$ é o número de elementos nas séries $x$ e $y$ .\n",
    "* $\\mu_x$ e $\\mu_y$ representam as médias das séries $x$ e $y$,\n",
    "* $\\sigma_x$ e $\\sigma_y$ representam os desvios padrões das séries $x$ e $y$\n",
    "\n",
    "Embora a equação seja essa, nós não a implementaremos manualmente. Ao invés disso, usaremos `pandas` para gerar um novo DataFrame que contém as correlações que queremos:"
   ]
  },
  {
   "cell_type": "code",
   "execution_count": 16,
   "metadata": {},
   "outputs": [
    {
     "name": "stdout",
     "output_type": "stream",
     "text": [
      "                     Tempo de estudo (h)  Nota na prova\n",
      "Tempo de estudo (h)             1.000000       0.875608\n",
      "Nota na prova                   0.875608       1.000000\n",
      "Correlação: 0.8756084675952558\n"
     ]
    }
   ],
   "source": [
    "rxy = df.corr()\n",
    "print(rxy)\n",
    "print( \"Correlação:\", rxy.loc['Nota na prova']['Tempo de estudo (h)'])"
   ]
  },
  {
   "cell_type": "markdown",
   "metadata": {},
   "source": [
    "A correlação pode assumir valores entre 1 e -1. Se está próxima de 1, significa que a associação é forte e quando um fenômeno aumenta, o outro também aumenta. Se é próxima de -1, a associação também é forte, mas, quando um fenômeno aumenta, o outro diminui. Se está próxima de zero, isso significa que as variáveis medidas têm associação fraca, ou que são *descorrelacionadas*. Embora haja alguns manuais com níveis de correlação e possíveis interpretações, o uso adequado desta ferramenta depende do contexto em que a interpretação é feita.\n",
    "\n",
    "Sob um ponto de vista estritamente científico, temos as seguintes situações:\n",
    "\n",
    "* Se $r_{xy}$ está próximo de 1 ou -1, é *possível* que haja algum tipo de associação entre os fenômenos medidos.\n",
    "* Se $r_{xy}$ está muito próximo de 0, então seus dados indicam que não há nenhum tipo de associação entre os fenômenos medidos."
   ]
  },
  {
   "cell_type": "markdown",
   "metadata": {},
   "source": [
    "# Exercício 1\n",
    "*Objetivo: usar scatterplot e correlação para julgar uma hipótese*\n",
    "\n",
    "Usando um *scatterplot* e uma medida de correlação, use dados do Banco Mundial para discutir a seguinte afirmação:\n",
    "\n",
    "*Os países que são mais ricos em 2020 são os mesmos países que já eram os mais ricos em 1980!*"
   ]
  },
  {
   "cell_type": "code",
   "execution_count": 9,
   "metadata": {},
   "outputs": [],
   "source": [
    "# Resolva seu exercício aqui\n",
    "df_pib_per_capita = pd.read_csv('dados/WorldBank/API_NY.GDP.PCAP.CD_DS2_en_csv_v2_3731360.csv', skiprows=3)"
   ]
  },
  {
   "cell_type": "markdown",
   "metadata": {},
   "source": [
    "# Exercício 2\n",
    "*Objetivo: usar dados de múltiplas tabelas para discutir uma hipótese*\n",
    "\n",
    "O desmatamento é um problema ligado ao desenvolvimento sustentável de países. É comum ouvirmos dizer que os países mais ricos do mundo já devastaram suas próprias florestas e, portanto, o desmatamento é um caminho inevitável para o progresso de um país.\n",
    "\n",
    "Os dataframes abaixo carregam dados do Banco Mundial referentes ao PIB per capita e à porcentagem de área coberta por florestas de cada país.\n",
    "\n",
    "O problema agora é que temos dados relevantes, relacionados aos mesmos países, mas em dataframes diferentes! Por isso, será necessário usar o método `merge` (veja o [tutorial em vídeo aqui](https://youtu.be/MyPKZazh4C4)).\n",
    "\n",
    "Use esses dados para gerar um scatterplot e calcular correlações para discutir a hipótese:\n",
    "\n",
    "*Em 2020, quanto mais rico é um país, menor é sua área coberta por florestas*"
   ]
  },
  {
   "cell_type": "code",
   "execution_count": 17,
   "metadata": {},
   "outputs": [],
   "source": [
    "df_area_florestal = pd.read_csv('dados/WorldBank/API_AG.LND.FRST.ZS_DS2_en_csv_v2_3731376.csv', skiprows=3)\n",
    "df_pib_per_capita = pd.read_csv('dados/WorldBank/API_NY.GDP.PCAP.CD_DS2_en_csv_v2_3731360.csv', skiprows=3)"
   ]
  },
  {
   "cell_type": "code",
   "execution_count": null,
   "metadata": {},
   "outputs": [],
   "source": []
  },
  {
   "cell_type": "markdown",
   "metadata": {},
   "source": [
    "# Exercício 3\n",
    "*Objetivo: comparar correlações de analisar hipóteses sobre diferentes comportamentos*\n",
    "\n",
    "Podemos argumentar que a análise feita no exercício 2 é incompleta porque considera apenas um ano. Talvez o que tenha acontecido é que os países que já eram cheios de florestas continuaram cheios de florestas e os que não tinham florestas continuaram assim, ou talvez os países ricos tenham simplesmente tido mais recursos para reflorestar seus territórios. Por isso, deveríamos analisar os dados históricos relacionando PIB *per capita* e taxa de florestamento para cada país.\n",
    "\n",
    "1. Para cada país em nosso conjunto de dados, calcule a correlação entre o PIB per capita e a área florestada.\n",
    "1. Faça um histograma das correlações encontradas e calcule sua média e desvio padrão. Quais são os comportamentos típicos encontrados?\n",
    "1. Faça a mesma análise, agora comparando os 20% de países mais pobres aos 20% mais ricos. Quais são as diferenças evidenciadas?\n",
    "1. Faça a mesma análise, agora comparando os 20% de países mais cobertos de florestas aos 20% menos cobertos de florestas. Quais são as diferenças evidenciadas? "
   ]
  },
  {
   "cell_type": "code",
   "execution_count": 18,
   "metadata": {},
   "outputs": [],
   "source": [
    "df_area_florestal = pd.read_csv('dados/WorldBank/API_AG.LND.FRST.ZS_DS2_en_csv_v2_3731376.csv', skiprows=3).set_index('Country Name')\n",
    "df_pib_per_capita = pd.read_csv('dados/WorldBank/API_NY.GDP.PCAP.CD_DS2_en_csv_v2_3731360.csv', skiprows=3).set_index('Country Name')"
   ]
  }
 ],
 "metadata": {
  "kernelspec": {
   "display_name": "Python 3.7.12",
   "language": "python",
   "name": "python3"
  },
  "language_info": {
   "codemirror_mode": {
    "name": "ipython",
    "version": 3
   },
   "file_extension": ".py",
   "mimetype": "text/x-python",
   "name": "python",
   "nbconvert_exporter": "python",
   "pygments_lexer": "ipython3",
   "version": "3.11.4"
  },
  "orig_nbformat": 4,
  "vscode": {
   "interpreter": {
    "hash": "48a163085726af4aa892ebfc5efd6be8ee4b935d9ea37781e4f79f4457b77d39"
   }
  }
 },
 "nbformat": 4,
 "nbformat_minor": 2
}
