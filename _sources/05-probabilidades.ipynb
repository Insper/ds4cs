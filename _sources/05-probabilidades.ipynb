{
 "cells": [
  {
   "cell_type": "markdown",
   "metadata": {},
   "source": [
    "# 05 - Probabilidades, probabilidades conjuntas e probabilidades condicionais\n",
    "**Objetivo da aula**: ao fim desta aula, o aluno será capaz de calcular probabilidades conjuntas e condicionais, e usar o conceito de independência, para estimar o comportamento de populações.\n",
    "\n",
    "* Slides: [download de exercícios extras - resolvidos em aula](probabilidade.pdf)"
   ]
  },
  {
   "cell_type": "markdown",
   "metadata": {},
   "source": [
    "### Texto introdutório\n",
    "\n",
    "Quando falamos de um experimento aleatório que pode gerar um resultado $A$, dizemos que o resultado $A$ tem uma probabilidade $P(A)$. Por exemplo, no caso da moeda, temos $P(\\text{cara})$ e $P(\\text{coroa})$. De forma geral, a probabilidade é calculada como:\n",
    "\n",
    "$$\n",
    "P(A) = \\frac{\\text{\\# eventos favoráveis}}{\\text{\\# eventos possíveis}}\n",
    "$$\n",
    "\n",
    "\n",
    "Podemos representar graficamente essa probabilidade usando um diagrama de Venn, como em:\n",
    "\n",
    "<img src=\"figuras/venn_1.png\" />\n",
    "\n",
    "Nessa figura, vemos alguns elementos importantes:\n",
    "\n",
    "* A borda externa representa o conjunto-universo, que contém *todos* os possíveis resultados do experimento. Metaforicamente, realizar o experimento é como escolher um ponto aleatório dentro desses limites.\n",
    "* O círculo azulado tem área $P(A)$ e representa o resultado $A$. Isso significa que, se o ponto escolhido metaforicamente estiver dentro do círculo azul, então temos o resultado $A$. Os \"números de eventos\" são proporcionais a esta área.\n",
    "* Por consequência, a região externa ao círculo representa o resultado não-A, ou $\\bar{A}$.\n",
    "\n",
    "## Dois eventos?\n",
    "\n",
    "Quando temos dois tipos de resultados diferentes acontecendo, temos uma outra situação:\n",
    "\n",
    "<img src=\"figuras/venn_2.png\" />\n",
    "\n",
    "Nesse caso, temos a região para os resultados $A$, a região para os resultados $B$, e uma região chamada \"A intersecção B\", ou $A \\cap B$. Nessa região, os eventos $A$ e $B$ acontecem simultaneamente, isto é, o experimento é realizado gerando $A$ e $B$. Há duas ideias importantes para $P(A \\cap B)$:\n",
    "\n",
    "1. Se os eventos são mutuamente excludentes (por exemplo, A significa \"cara\" e B significa \"coroa\"), então $P(A \\cap B) = 0$;\n",
    "1. Se os eventos são independentes (por exemplo, A significa \"cara na primeira jogada\" e B significa \"cara na segunda jogada\") então $P(A \\cap B) = P(A) P(B)$ \n",
    "\n",
    "Também podemos calcular a probabilidade do evento \"A união B\", ou $A \\cup B$. Esse é o evento \"ocorrer A ou ocorrer B\". Veja que, somando $P(A)+P(B)$, temos a probabilidade da união, exceto pelo fato de termos \"contado\" a intersecção duas vezes. Então, podemos calcular: $P(A \\cup B) = P(A)+P(B)-P(A\\cap B)$."
   ]
  },
  {
   "cell_type": "markdown",
   "metadata": {},
   "source": [
    "# Exercício 1\n",
    "*Objetivo: usar o conceito de independência para determinar probabilidades*\n",
    "\n",
    "Cada cliente que entra em uma loja tem uma probabilidade de $0.2$ de realizar uma compra. Se entram dois clientes na loja:\n",
    "\n",
    "1. Qual é a probabilidade de ambos realizarem compras?\n",
    "1. Qual é a probabilidade de nenhum deles realizarem compras?\n",
    "1. Qual é a probabilidade de pelo menos um deles realizar uma compra?\n"
   ]
  },
  {
   "cell_type": "code",
   "execution_count": null,
   "metadata": {},
   "outputs": [],
   "source": [
    "# Resolva seu exercício aqui"
   ]
  },
  {
   "cell_type": "markdown",
   "metadata": {},
   "source": [
    "# Exercício 2\n",
    "*Objetivo: verificar independência em duas séries de jogadas*\n",
    "\n",
    "O código abaixo gera jogadas fictícias de duas moedas. Verifique se a equação $P(A \\cap B) = P(A) P(B)$ se adequa a explicar este fenômeno. As jogadas podem ser consideradas independentes? "
   ]
  },
  {
   "cell_type": "code",
   "execution_count": 27,
   "metadata": {},
   "outputs": [
    {
     "name": "stdout",
     "output_type": "stream",
     "text": [
      "[1 1 1 1 1 0 1 0 1 0 0 0 0 0 1 0 1 0 1 1 0 0 0 0 1 0 0 0 1 1 1 1 0 1 1 0 0\n",
      " 0 1 0 0 0 0 0 1 1 1 0 1 1]\n"
     ]
    }
   ],
   "source": [
    "import numpy as np\n",
    "\n",
    "a = (np.random.random(50) > 0.5).astype(int)\n",
    "b = (np.random.random(50) > 0.5).astype(int)\n",
    "\n",
    "print(a)"
   ]
  },
  {
   "cell_type": "markdown",
   "metadata": {},
   "source": [
    "# Exercício 3: probabilidade marginal\n",
    "*Objetivo: calcular probabilidades marginais à partir de probabilidades conjuntas*\n",
    "\n",
    "Algumas vezes, conhecemos a probabilidade de eventos conjuntos. Por exemplo, se estamos arremessando dados independentemente, cada par de resultados pode aparecer com uma probabilidade igual a $1/6^2 = 1/36$, isto é:\n",
    "\n",
    "| Dado 1 | 1 | 2 | 3 | 4 | 5 | 6 |\n",
    "| --- | --- | --- | --- | --- | --- | ---  |\n",
    "| Dado 2 | - | -  | - | - | - | - |\n",
    "| 1      | $1/36$ | $1/36$ | $1/36$ | $1/36$ | $1/36$ | $1/36$ |\n",
    "| 2      | $1/36$ | $1/36$ | $1/36$ | $1/36$ | $1/36$ | $1/36$ |\n",
    "| 3      | $1/36$ | $1/36$ | $1/36$ | $1/36$ | $1/36$ | $1/36$ |\n",
    "| 4      | $1/36$ | $1/36$ | $1/36$ | $1/36$ | $1/36$ | $1/36$ |\n",
    "| 5      | $1/36$ | $1/36$ | $1/36$ | $1/36$ | $1/36$ | $1/36$ |\n",
    "| 6      | $1/36$ | $1/36$ | $1/36$ | $1/36$ | $1/36$ | $1/36$ |\n",
    "\n",
    "Se conhecemos somente esta tabela, como poderíamos estimar a probabilidade do dado 1 dar resultado 6 ($P(d_1=6)$)? A maneira direta é:\n",
    "1. Somar todas as probabilidades da tabela (isso deve dar 1, já que a tabela representa todo o universo de jogadas)\n",
    "1. Somar todas as probabilidades relacionadas a eventos favoráveis ($6 \\times 1/36 = 1/6$)\n",
    "1. Dividir a probabilidade relacionada a eventos favoráveis pela probabilidade total de eventos da tabela.\n",
    "\n",
    "Esse resultado fica especialmente relevante quando não temos tabelas com probabilidades, e sim com contagens.\n",
    "\n",
    "Num restaurante fictício, clientes pedem uma bebida e uma comida. No último fim de semana, seguintes pedidos foram registrados:\n",
    "| Comida | hamburguer | salada |\n",
    "| --- | --- | --- |\n",
    "| Bebida | - | -  | \n",
    "| água | 50 | 250 |\n",
    "| refrigerante | 170 | 20 |\n",
    "| suco | 350 | 350 |\n",
    "\n",
    "1. Se sorteamos um pedido aleatório entre esses, qual é a probabilidade de encontrarmos um pedido de salada e refrigerante?\n",
    "1. Se sortearmos um pedido aleatório entre esses, qual é a probabilidade dele ter água ou suco?\n",
    "1. Se sortearmos um pedido aleatório entre esses, qual é a probabilidade dele ter pelo menos um entre água e salada?\n",
    "2. Se sortearmos um pedido aleatório entre esses, qual é a probabilidade de encontrarmos um pedido com hamburguer?\n",
    "3. Se sortearmos um pedido aleatório entre esses, qual é a probabilidade de encontrarmos um pedido com suco?\n",
    "4. Se sortearmos um pedido aleatório entre os que foram pedidos com suco, qual é a probabilidade de encontrarmos um pedido que tenha hamburguer?"
   ]
  },
  {
   "cell_type": "markdown",
   "metadata": {},
   "source": [
    "# Exercício 4: \n",
    "*Objetivo: usar o conceito de probabilidades condicionais*\n",
    "\n",
    "No nosso diagrama de Venn, tínhamos:\n",
    "\n",
    "<img src=\"figuras/venn_2.png\" />\n",
    "\n",
    "Nessa situação, temos uma outra possibilidade de unir os dois eventos: se *sabemos* que um deles ocorre, qual é a probabilidade do outro? Ou ainda: qual é a probabilidade de A dado que *sabemos* que B ocorre?\n",
    "\n",
    "Nesse caso, escrevemos: \n",
    "\n",
    "$$\n",
    "P(A|B),\n",
    "$$\n",
    "\n",
    "que é lido: a **probabilidade de A dado B**.\n",
    "\n",
    "Podemos continuar nossa ideia de probabilidade usando $P(A) = \\frac{\\text{\\# eventos favoráveis}}{\\text{\\# eventos possíveis}}$. Porém, desta vez:\n",
    "\n",
    "* Os eventos possíveis não são todo o conjunto \"universo\", e sim somente aqueles em que $B$ ocorre (ou seja: $P(B)$).\n",
    "* Os eventos favoráveis não são todo o conjunto em que $A$ ocorre, e sim somente em que $A$ e $B$ ocorrem simultaneamente (pois sabemos que $B$ ocorre), isto é, $P(A \\cap B)$.\n",
    "\n",
    "Então:\n",
    "\n",
    "$$\n",
    "P(A|B) = \\frac{P(A \\cap B)}{P(B)}\n",
    "$$\n",
    "\n",
    "### Enunciado do exercício\n",
    "\n",
    "Retomando os pedidos do restaurante, calcule:\n",
    "\n",
    "* $P(\\text{suco})$\n",
    "* $P(\\text{hamburguer} \\cap \\text{suco})$\n",
    "* Diretamente dos dados, e depois através da equação: $P(\\text{hamburguer} | \\text{suco} )$\n",
    "\n"
   ]
  },
  {
   "cell_type": "markdown",
   "metadata": {},
   "source": [
    "# Exercício 5\n",
    "*Objetivo: usar os conceitos de probabilidade conjunta, condicional e marginal*\n",
    "\n",
    "Num restaurante, os clientes sempre pedem uma comida (hamburguer ou salada) uma bebida (suco ou refrigerante). 70% dos clientes que pedem suco comem salada. Dos que pedem refrigerante, 30% comem salada. Sabemos ainda que 80% dos clientes pedem suco.\n",
    "\n",
    "1. Qual é a probabilidade de um cliente pedir salada?\n",
    "\n",
    "1. Sabendo que um cliente pediu salada, qual é a probabilidade de ele ter pedido suco?\n",
    "\n",
    "1. É correto afirmar que os clientes que pedem refrigerante neste restaurante são mais inclinados a pedir hamburguer que salada?\n"
   ]
  },
  {
   "cell_type": "markdown",
   "metadata": {},
   "source": []
  }
 ],
 "metadata": {
  "kernelspec": {
   "display_name": "cdados",
   "language": "python",
   "name": "python3"
  },
  "language_info": {
   "codemirror_mode": {
    "name": "ipython",
    "version": 3
   },
   "file_extension": ".py",
   "mimetype": "text/x-python",
   "name": "python",
   "nbconvert_exporter": "python",
   "pygments_lexer": "ipython3",
   "version": "3.11.4"
  },
  "orig_nbformat": 4
 },
 "nbformat": 4,
 "nbformat_minor": 2
}
